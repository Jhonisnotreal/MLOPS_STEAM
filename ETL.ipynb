{
 "cells": [
  {
   "cell_type": "code",
   "execution_count": null,
   "metadata": {},
   "outputs": [],
   "source": [
    "# Importing libraries and paths\n",
    "\n",
    "import pandas as pd\n",
    "import gzip\n",
    "import ast\n",
    "from datetime import datetime\n",
    "import calendar \n",
    "import re\n",
    "# from textblob import TextBlob\n",
    "\n",
    "# Paths\n",
    "\n",
    "path1 = 'steam_games.json.gz'\n",
    "path2 = 'user_reviews.json.gz'\n",
    "path3 = 'users_items.json.gz'\n",
    "\n",
    "# Creating a function to read the paths\n",
    "\n",
    "def read_path(file):\n",
    "    with gzip.open(file, 'rt', encoding='utf-8') as myfile:\n",
    "        return [ast.literal_eval(line.strip()) for line in myfile]\n",
    "\n",
    "\n",
    "# We generated the function to unnest the 'items' and 'reviews' columns\n",
    "def unnest_items(df):\n",
    "    # Explode the 'items' column to create a new row for each element in the list\n",
    "    items = df['items'].explode()\n",
    "\n",
    "    # Drop the original 'items' column from the DataFrame\n",
    "    df = df.drop('items', axis=1)\n",
    "\n",
    "    # Join the exploded 'items' Series as new columns in the DataFrame\n",
    "    df = df.join(items.apply(pd.Series))\n",
    "\n",
    "    # Return the modified DataFrame\n",
    "    return df\n"
   ]
  },
  {
   "cell_type": "code",
   "execution_count": 4,
   "metadata": {},
   "outputs": [
    {
     "ename": "KeyboardInterrupt",
     "evalue": "",
     "output_type": "error",
     "traceback": [
      "\u001b[1;31m---------------------------------------------------------------------------\u001b[0m",
      "\u001b[1;31mKeyboardInterrupt\u001b[0m                         Traceback (most recent call last)",
      "\u001b[1;32mc:\\Users\\Jhon\\Desktop\\MLOPS_STEAM\\MLOPS_STEAM\\ETL.ipynb Cell 2\u001b[0m line \u001b[0;36m7\n\u001b[0;32m      <a href='vscode-notebook-cell:/c%3A/Users/Jhon/Desktop/MLOPS_STEAM/MLOPS_STEAM/ETL.ipynb#W1sZmlsZQ%3D%3D?line=3'>4</a>\u001b[0m     df_games \u001b[39m=\u001b[39m pd\u001b[39m.\u001b[39mread_json(f, lines\u001b[39m=\u001b[39m\u001b[39mTrue\u001b[39;00m)\n\u001b[0;32m      <a href='vscode-notebook-cell:/c%3A/Users/Jhon/Desktop/MLOPS_STEAM/MLOPS_STEAM/ETL.ipynb#W1sZmlsZQ%3D%3D?line=5'>6</a>\u001b[0m reviews \u001b[39m=\u001b[39m read_path(path2)\n\u001b[1;32m----> <a href='vscode-notebook-cell:/c%3A/Users/Jhon/Desktop/MLOPS_STEAM/MLOPS_STEAM/ETL.ipynb#W1sZmlsZQ%3D%3D?line=6'>7</a>\u001b[0m items \u001b[39m=\u001b[39m read_path(path3)\n\u001b[0;32m      <a href='vscode-notebook-cell:/c%3A/Users/Jhon/Desktop/MLOPS_STEAM/MLOPS_STEAM/ETL.ipynb#W1sZmlsZQ%3D%3D?line=8'>9</a>\u001b[0m \u001b[39m# Let's transform it to dataframes\u001b[39;00m\n\u001b[0;32m     <a href='vscode-notebook-cell:/c%3A/Users/Jhon/Desktop/MLOPS_STEAM/MLOPS_STEAM/ETL.ipynb#W1sZmlsZQ%3D%3D?line=10'>11</a>\u001b[0m df_reviews \u001b[39m=\u001b[39m pd\u001b[39m.\u001b[39mDataFrame(reviews)\n",
      "\u001b[1;32mc:\\Users\\Jhon\\Desktop\\MLOPS_STEAM\\MLOPS_STEAM\\ETL.ipynb Cell 2\u001b[0m line \u001b[0;36m2\n\u001b[0;32m     <a href='vscode-notebook-cell:/c%3A/Users/Jhon/Desktop/MLOPS_STEAM/MLOPS_STEAM/ETL.ipynb#W1sZmlsZQ%3D%3D?line=18'>19</a>\u001b[0m \u001b[39mdef\u001b[39;00m \u001b[39mread_path\u001b[39m(file):\n\u001b[0;32m     <a href='vscode-notebook-cell:/c%3A/Users/Jhon/Desktop/MLOPS_STEAM/MLOPS_STEAM/ETL.ipynb#W1sZmlsZQ%3D%3D?line=19'>20</a>\u001b[0m     \u001b[39mwith\u001b[39;00m gzip\u001b[39m.\u001b[39mopen(file, \u001b[39m'\u001b[39m\u001b[39mrt\u001b[39m\u001b[39m'\u001b[39m, encoding\u001b[39m=\u001b[39m\u001b[39m'\u001b[39m\u001b[39mutf-8\u001b[39m\u001b[39m'\u001b[39m) \u001b[39mas\u001b[39;00m myfile:\n\u001b[1;32m---> <a href='vscode-notebook-cell:/c%3A/Users/Jhon/Desktop/MLOPS_STEAM/MLOPS_STEAM/ETL.ipynb#W1sZmlsZQ%3D%3D?line=20'>21</a>\u001b[0m         \u001b[39mreturn\u001b[39;00m [ast\u001b[39m.\u001b[39mliteral_eval(line\u001b[39m.\u001b[39mstrip()) \u001b[39mfor\u001b[39;00m line \u001b[39min\u001b[39;00m myfile]\n",
      "\u001b[1;32mc:\\Users\\Jhon\\Desktop\\MLOPS_STEAM\\MLOPS_STEAM\\ETL.ipynb Cell 2\u001b[0m line \u001b[0;36m2\n\u001b[0;32m     <a href='vscode-notebook-cell:/c%3A/Users/Jhon/Desktop/MLOPS_STEAM/MLOPS_STEAM/ETL.ipynb#W1sZmlsZQ%3D%3D?line=18'>19</a>\u001b[0m \u001b[39mdef\u001b[39;00m \u001b[39mread_path\u001b[39m(file):\n\u001b[0;32m     <a href='vscode-notebook-cell:/c%3A/Users/Jhon/Desktop/MLOPS_STEAM/MLOPS_STEAM/ETL.ipynb#W1sZmlsZQ%3D%3D?line=19'>20</a>\u001b[0m     \u001b[39mwith\u001b[39;00m gzip\u001b[39m.\u001b[39mopen(file, \u001b[39m'\u001b[39m\u001b[39mrt\u001b[39m\u001b[39m'\u001b[39m, encoding\u001b[39m=\u001b[39m\u001b[39m'\u001b[39m\u001b[39mutf-8\u001b[39m\u001b[39m'\u001b[39m) \u001b[39mas\u001b[39;00m myfile:\n\u001b[1;32m---> <a href='vscode-notebook-cell:/c%3A/Users/Jhon/Desktop/MLOPS_STEAM/MLOPS_STEAM/ETL.ipynb#W1sZmlsZQ%3D%3D?line=20'>21</a>\u001b[0m         \u001b[39mreturn\u001b[39;00m [ast\u001b[39m.\u001b[39mliteral_eval(line\u001b[39m.\u001b[39mstrip()) \u001b[39mfor\u001b[39;00m line \u001b[39min\u001b[39;00m myfile]\n",
      "File \u001b[1;32mc:\\ProgramData\\anaconda3\\Lib\\ast.py:110\u001b[0m, in \u001b[0;36mliteral_eval\u001b[1;34m(node_or_string)\u001b[0m\n\u001b[0;32m    108\u001b[0m                 \u001b[39mreturn\u001b[39;00m left \u001b[39m-\u001b[39m right\n\u001b[0;32m    109\u001b[0m     \u001b[39mreturn\u001b[39;00m _convert_signed_num(node)\n\u001b[1;32m--> 110\u001b[0m \u001b[39mreturn\u001b[39;00m _convert(node_or_string)\n",
      "File \u001b[1;32mc:\\ProgramData\\anaconda3\\Lib\\ast.py:84\u001b[0m, in \u001b[0;36mliteral_eval.<locals>._convert\u001b[1;34m(node)\u001b[0m\n\u001b[0;32m     82\u001b[0m             \u001b[39mreturn\u001b[39;00m \u001b[39m-\u001b[39m operand\n\u001b[0;32m     83\u001b[0m     \u001b[39mreturn\u001b[39;00m _convert_num(node)\n\u001b[1;32m---> 84\u001b[0m \u001b[39mdef\u001b[39;00m \u001b[39m_convert\u001b[39m(node):\n\u001b[0;32m     85\u001b[0m     \u001b[39mif\u001b[39;00m \u001b[39misinstance\u001b[39m(node, Constant):\n\u001b[0;32m     86\u001b[0m         \u001b[39mreturn\u001b[39;00m node\u001b[39m.\u001b[39mvalue\n",
      "\u001b[1;31mKeyboardInterrupt\u001b[0m: "
     ]
    }
   ],
   "source": [
    "# Let's read all the datasets\n",
    "\n",
    "with gzip.open(path1, 'rt', encoding='utf-8') as f:\n",
    "    df_games = pd.read_json(f, lines=True)\n",
    "\n",
    "reviews = read_path(path2)\n",
    "items = read_path(path3)\n",
    "\n",
    "# Let's transform it to dataframes\n",
    "\n",
    "df_reviews = pd.DataFrame(reviews)\n",
    "df_items = pd.DataFrame(items)\n",
    "\n"
   ]
  },
  {
   "cell_type": "code",
   "execution_count": null,
   "metadata": {},
   "outputs": [],
   "source": [
    "# We read an element of the dataset to see what's inside \n"
   ]
  },
  {
   "cell_type": "code",
   "execution_count": 3,
   "metadata": {},
   "outputs": [
    {
     "name": "stdout",
     "output_type": "stream",
     "text": [
      "HOla este es otro mensaje de prueba...\n"
     ]
    }
   ],
   "source": []
  },
  {
   "cell_type": "code",
   "execution_count": null,
   "metadata": {},
   "outputs": [],
   "source": []
  }
 ],
 "metadata": {
  "kernelspec": {
   "display_name": "base",
   "language": "python",
   "name": "python3"
  },
  "language_info": {
   "codemirror_mode": {
    "name": "ipython",
    "version": 3
   },
   "file_extension": ".py",
   "mimetype": "text/x-python",
   "name": "python",
   "nbconvert_exporter": "python",
   "pygments_lexer": "ipython3",
   "version": "3.11.4"
  }
 },
 "nbformat": 4,
 "nbformat_minor": 2
}
