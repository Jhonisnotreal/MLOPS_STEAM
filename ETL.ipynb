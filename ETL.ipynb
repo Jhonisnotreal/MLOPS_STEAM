{
 "cells": [
  {
   "cell_type": "markdown",
   "metadata": {},
   "source": [
    "# Importing Libraries, defining paths & creating functions"
   ]
  },
  {
   "cell_type": "code",
   "execution_count": 1,
   "metadata": {},
   "outputs": [],
   "source": [
    "# Importing libraries and paths\n",
    "\n",
    "import pandas as pd\n",
    "import gzip\n",
    "import ast\n",
    "\n",
    "# Creating a function to read the paths\n",
    "\n",
    "def read_path(file):\n",
    "    with gzip.open(file, 'rt', encoding='utf-8') as myfile:\n",
    "        return [ast.literal_eval(line.strip()) for line in myfile]\n",
    "    \n",
    "# Creating a function to change datetime in columns\n",
    "    \n",
    "def datetime_change(var):\n",
    "\n",
    "    if pd.isna(var):\n",
    "        return None\n",
    "\n",
    "    try:\n",
    "        return pd.to_datetime(var)\n",
    "    except ValueError:\n",
    "        return None\n",
    "    \n",
    "\n",
    "# Creating a function to unnest data in columns\n",
    "    \n",
    "def unnesting(dataframe,column):\n",
    "    \n",
    "    df_aux = dataframe.explode(column)\n",
    "    df_normal = pd.json_normalize(df_aux[column].dropna())\n",
    "\n",
    "    df_aux.reset_index(inplace=True)\n",
    "    df_normal.reset_index(inplace=True)\n",
    "    dataframe = pd.concat([df_aux,df_normal],axis=1)\n",
    "    dataframe.dropna(inplace=True)\n",
    "    \n",
    "    return dataframe\n",
    "\n",
    "\n",
    "def to_float(data):\n",
    "    if pd.isna(data):\n",
    "        return 0.0\n",
    "        \n",
    "    try:\n",
    "        return float(data)\n",
    "    except(ValueError, TypeError):\n",
    "        return 0.0"
   ]
  },
  {
   "cell_type": "markdown",
   "metadata": {},
   "source": [
    "## First, let's begin cleaning 'df_games'"
   ]
  },
  {
   "cell_type": "code",
   "execution_count": 2,
   "metadata": {},
   "outputs": [],
   "source": [
    "path1 = 'Datasets/steam_games.json.gz'"
   ]
  },
  {
   "cell_type": "code",
   "execution_count": 3,
   "metadata": {},
   "outputs": [],
   "source": [
    "# Reading the dataset from 'steam_games.json.gz' ↓↓↓\n",
    "with gzip.open(path1, 'rt', encoding='utf-8') as file:\n",
    "    df_games = pd.read_json(file, lines=True)"
   ]
  },
  {
   "cell_type": "code",
   "execution_count": 4,
   "metadata": {},
   "outputs": [
    {
     "name": "stdout",
     "output_type": "stream",
     "text": [
      "(120445, 13)\n",
      "Index(['publisher', 'genres', 'app_name', 'title', 'url', 'release_date',\n",
      "       'tags', 'reviews_url', 'specs', 'price', 'early_access', 'id',\n",
      "       'developer'],\n",
      "      dtype='object')\n"
     ]
    }
   ],
   "source": [
    "print(df_games.shape)\n",
    "print(df_games.columns)"
   ]
  },
  {
   "cell_type": "code",
   "execution_count": 8,
   "metadata": {},
   "outputs": [
    {
     "data": {
      "text/plain": [
       "0               None\n",
       "1               None\n",
       "2               None\n",
       "3               None\n",
       "4               None\n",
       "             ...    \n",
       "120442        Racing\n",
       "120442    Simulation\n",
       "120443        Casual\n",
       "120443         Indie\n",
       "120444          None\n",
       "Name: genres, Length: 163147, dtype: object"
      ]
     },
     "execution_count": 8,
     "metadata": {},
     "output_type": "execute_result"
    }
   ],
   "source": [
    "df_games['genres'].explode()"
   ]
  },
  {
   "cell_type": "code",
   "execution_count": 9,
   "metadata": {},
   "outputs": [],
   "source": [
    "# In the next code cell, I'm going to delete specific columns that we don't need for the tasks\n",
    "\n",
    "df_games.drop(['url','reviews_url','specs', 'id'],axis=1,inplace=True)\n",
    "\n",
    "# I use inplace=True because I want to change the original dataframe too\n",
    "\n",
    "df_games.dropna(subset=['genres'], inplace=True)\n",
    "\n",
    "df_games.reset_index(inplace=True)\n",
    "\n",
    "df_games.drop(columns='index', inplace=True)"
   ]
  },
  {
   "cell_type": "code",
   "execution_count": 10,
   "metadata": {},
   "outputs": [],
   "source": [
    "df_games['price'].apply(to_float)\n",
    "\n",
    "df_games['release_date'] = pd.to_datetime(df_games['release_date'], errors='coerce')\n"
   ]
  },
  {
   "cell_type": "code",
   "execution_count": 11,
   "metadata": {},
   "outputs": [],
   "source": [
    "df_games['release_year'] = df_games['release_date'].dt.year\n"
   ]
  },
  {
   "cell_type": "code",
   "execution_count": 12,
   "metadata": {},
   "outputs": [
    {
     "data": {
      "text/plain": [
       "0        2018.0\n",
       "1        2018.0\n",
       "2        2017.0\n",
       "3        2017.0\n",
       "4        2018.0\n",
       "          ...  \n",
       "28847    2018.0\n",
       "28848    2018.0\n",
       "28849    2018.0\n",
       "28850    2018.0\n",
       "28851    2017.0\n",
       "Name: release_year, Length: 28852, dtype: float64"
      ]
     },
     "execution_count": 12,
     "metadata": {},
     "output_type": "execute_result"
    }
   ],
   "source": [
    "df_games['release_year']"
   ]
  },
  {
   "cell_type": "code",
   "execution_count": 15,
   "metadata": {},
   "outputs": [
    {
     "data": {
      "text/plain": [
       "0            [Action, Casual, Indie, Simulation, Strategy]\n",
       "1                     [Free to Play, Indie, RPG, Strategy]\n",
       "2        [Casual, Free to Play, Indie, Simulation, Sports]\n",
       "3                              [Action, Adventure, Casual]\n",
       "4                          [Action, Adventure, Simulation]\n",
       "                               ...                        \n",
       "28847                   [Action, Adventure, Casual, Indie]\n",
       "28848                [Casual, Indie, Simulation, Strategy]\n",
       "28849                            [Casual, Indie, Strategy]\n",
       "28850                          [Indie, Racing, Simulation]\n",
       "28851                                      [Casual, Indie]\n",
       "Name: genres, Length: 28852, dtype: object"
      ]
     },
     "execution_count": 15,
     "metadata": {},
     "output_type": "execute_result"
    }
   ],
   "source": [
    "df_games['genres']"
   ]
  },
  {
   "cell_type": "code",
   "execution_count": 17,
   "metadata": {},
   "outputs": [
    {
     "data": {
      "text/html": [
       "<div>\n",
       "<style scoped>\n",
       "    .dataframe tbody tr th:only-of-type {\n",
       "        vertical-align: middle;\n",
       "    }\n",
       "\n",
       "    .dataframe tbody tr th {\n",
       "        vertical-align: top;\n",
       "    }\n",
       "\n",
       "    .dataframe thead th {\n",
       "        text-align: right;\n",
       "    }\n",
       "</style>\n",
       "<table border=\"1\" class=\"dataframe\">\n",
       "  <thead>\n",
       "    <tr style=\"text-align: right;\">\n",
       "      <th></th>\n",
       "      <th>publisher</th>\n",
       "      <th>genres</th>\n",
       "      <th>app_name</th>\n",
       "      <th>title</th>\n",
       "      <th>release_date</th>\n",
       "      <th>tags</th>\n",
       "      <th>price</th>\n",
       "      <th>early_access</th>\n",
       "      <th>developer</th>\n",
       "      <th>release_year</th>\n",
       "    </tr>\n",
       "  </thead>\n",
       "  <tbody>\n",
       "    <tr>\n",
       "      <th>0</th>\n",
       "      <td>Kotoshiro</td>\n",
       "      <td>Action</td>\n",
       "      <td>Lost Summoner Kitty</td>\n",
       "      <td>Lost Summoner Kitty</td>\n",
       "      <td>2018-01-04</td>\n",
       "      <td>[Strategy, Action, Indie, Casual, Simulation]</td>\n",
       "      <td>4.99</td>\n",
       "      <td>0.0</td>\n",
       "      <td>Kotoshiro</td>\n",
       "      <td>2018.0</td>\n",
       "    </tr>\n",
       "    <tr>\n",
       "      <th>0</th>\n",
       "      <td>Kotoshiro</td>\n",
       "      <td>Casual</td>\n",
       "      <td>Lost Summoner Kitty</td>\n",
       "      <td>Lost Summoner Kitty</td>\n",
       "      <td>2018-01-04</td>\n",
       "      <td>[Strategy, Action, Indie, Casual, Simulation]</td>\n",
       "      <td>4.99</td>\n",
       "      <td>0.0</td>\n",
       "      <td>Kotoshiro</td>\n",
       "      <td>2018.0</td>\n",
       "    </tr>\n",
       "    <tr>\n",
       "      <th>0</th>\n",
       "      <td>Kotoshiro</td>\n",
       "      <td>Indie</td>\n",
       "      <td>Lost Summoner Kitty</td>\n",
       "      <td>Lost Summoner Kitty</td>\n",
       "      <td>2018-01-04</td>\n",
       "      <td>[Strategy, Action, Indie, Casual, Simulation]</td>\n",
       "      <td>4.99</td>\n",
       "      <td>0.0</td>\n",
       "      <td>Kotoshiro</td>\n",
       "      <td>2018.0</td>\n",
       "    </tr>\n",
       "    <tr>\n",
       "      <th>0</th>\n",
       "      <td>Kotoshiro</td>\n",
       "      <td>Simulation</td>\n",
       "      <td>Lost Summoner Kitty</td>\n",
       "      <td>Lost Summoner Kitty</td>\n",
       "      <td>2018-01-04</td>\n",
       "      <td>[Strategy, Action, Indie, Casual, Simulation]</td>\n",
       "      <td>4.99</td>\n",
       "      <td>0.0</td>\n",
       "      <td>Kotoshiro</td>\n",
       "      <td>2018.0</td>\n",
       "    </tr>\n",
       "    <tr>\n",
       "      <th>0</th>\n",
       "      <td>Kotoshiro</td>\n",
       "      <td>Strategy</td>\n",
       "      <td>Lost Summoner Kitty</td>\n",
       "      <td>Lost Summoner Kitty</td>\n",
       "      <td>2018-01-04</td>\n",
       "      <td>[Strategy, Action, Indie, Casual, Simulation]</td>\n",
       "      <td>4.99</td>\n",
       "      <td>0.0</td>\n",
       "      <td>Kotoshiro</td>\n",
       "      <td>2018.0</td>\n",
       "    </tr>\n",
       "    <tr>\n",
       "      <th>...</th>\n",
       "      <td>...</td>\n",
       "      <td>...</td>\n",
       "      <td>...</td>\n",
       "      <td>...</td>\n",
       "      <td>...</td>\n",
       "      <td>...</td>\n",
       "      <td>...</td>\n",
       "      <td>...</td>\n",
       "      <td>...</td>\n",
       "      <td>...</td>\n",
       "    </tr>\n",
       "    <tr>\n",
       "      <th>28850</th>\n",
       "      <td>Laush Studio</td>\n",
       "      <td>Indie</td>\n",
       "      <td>Russian Roads</td>\n",
       "      <td>Russian Roads</td>\n",
       "      <td>2018-01-04</td>\n",
       "      <td>[Indie, Simulation, Racing]</td>\n",
       "      <td>1.99</td>\n",
       "      <td>0.0</td>\n",
       "      <td>Laush Dmitriy Sergeevich</td>\n",
       "      <td>2018.0</td>\n",
       "    </tr>\n",
       "    <tr>\n",
       "      <th>28850</th>\n",
       "      <td>Laush Studio</td>\n",
       "      <td>Racing</td>\n",
       "      <td>Russian Roads</td>\n",
       "      <td>Russian Roads</td>\n",
       "      <td>2018-01-04</td>\n",
       "      <td>[Indie, Simulation, Racing]</td>\n",
       "      <td>1.99</td>\n",
       "      <td>0.0</td>\n",
       "      <td>Laush Dmitriy Sergeevich</td>\n",
       "      <td>2018.0</td>\n",
       "    </tr>\n",
       "    <tr>\n",
       "      <th>28850</th>\n",
       "      <td>Laush Studio</td>\n",
       "      <td>Simulation</td>\n",
       "      <td>Russian Roads</td>\n",
       "      <td>Russian Roads</td>\n",
       "      <td>2018-01-04</td>\n",
       "      <td>[Indie, Simulation, Racing]</td>\n",
       "      <td>1.99</td>\n",
       "      <td>0.0</td>\n",
       "      <td>Laush Dmitriy Sergeevich</td>\n",
       "      <td>2018.0</td>\n",
       "    </tr>\n",
       "    <tr>\n",
       "      <th>28851</th>\n",
       "      <td>SIXNAILS</td>\n",
       "      <td>Casual</td>\n",
       "      <td>EXIT 2 - Directions</td>\n",
       "      <td>EXIT 2 - Directions</td>\n",
       "      <td>2017-09-02</td>\n",
       "      <td>[Indie, Casual, Puzzle, Singleplayer, Atmosphe...</td>\n",
       "      <td>4.99</td>\n",
       "      <td>0.0</td>\n",
       "      <td>xropi,stev3ns</td>\n",
       "      <td>2017.0</td>\n",
       "    </tr>\n",
       "    <tr>\n",
       "      <th>28851</th>\n",
       "      <td>SIXNAILS</td>\n",
       "      <td>Indie</td>\n",
       "      <td>EXIT 2 - Directions</td>\n",
       "      <td>EXIT 2 - Directions</td>\n",
       "      <td>2017-09-02</td>\n",
       "      <td>[Indie, Casual, Puzzle, Singleplayer, Atmosphe...</td>\n",
       "      <td>4.99</td>\n",
       "      <td>0.0</td>\n",
       "      <td>xropi,stev3ns</td>\n",
       "      <td>2017.0</td>\n",
       "    </tr>\n",
       "  </tbody>\n",
       "</table>\n",
       "<p>71554 rows × 10 columns</p>\n",
       "</div>"
      ],
      "text/plain": [
       "          publisher      genres             app_name                title  \\\n",
       "0         Kotoshiro      Action  Lost Summoner Kitty  Lost Summoner Kitty   \n",
       "0         Kotoshiro      Casual  Lost Summoner Kitty  Lost Summoner Kitty   \n",
       "0         Kotoshiro       Indie  Lost Summoner Kitty  Lost Summoner Kitty   \n",
       "0         Kotoshiro  Simulation  Lost Summoner Kitty  Lost Summoner Kitty   \n",
       "0         Kotoshiro    Strategy  Lost Summoner Kitty  Lost Summoner Kitty   \n",
       "...             ...         ...                  ...                  ...   \n",
       "28850  Laush Studio       Indie        Russian Roads        Russian Roads   \n",
       "28850  Laush Studio      Racing        Russian Roads        Russian Roads   \n",
       "28850  Laush Studio  Simulation        Russian Roads        Russian Roads   \n",
       "28851      SIXNAILS      Casual  EXIT 2 - Directions  EXIT 2 - Directions   \n",
       "28851      SIXNAILS       Indie  EXIT 2 - Directions  EXIT 2 - Directions   \n",
       "\n",
       "      release_date                                               tags price  \\\n",
       "0       2018-01-04      [Strategy, Action, Indie, Casual, Simulation]  4.99   \n",
       "0       2018-01-04      [Strategy, Action, Indie, Casual, Simulation]  4.99   \n",
       "0       2018-01-04      [Strategy, Action, Indie, Casual, Simulation]  4.99   \n",
       "0       2018-01-04      [Strategy, Action, Indie, Casual, Simulation]  4.99   \n",
       "0       2018-01-04      [Strategy, Action, Indie, Casual, Simulation]  4.99   \n",
       "...            ...                                                ...   ...   \n",
       "28850   2018-01-04                        [Indie, Simulation, Racing]  1.99   \n",
       "28850   2018-01-04                        [Indie, Simulation, Racing]  1.99   \n",
       "28850   2018-01-04                        [Indie, Simulation, Racing]  1.99   \n",
       "28851   2017-09-02  [Indie, Casual, Puzzle, Singleplayer, Atmosphe...  4.99   \n",
       "28851   2017-09-02  [Indie, Casual, Puzzle, Singleplayer, Atmosphe...  4.99   \n",
       "\n",
       "       early_access                 developer  release_year  \n",
       "0               0.0                 Kotoshiro        2018.0  \n",
       "0               0.0                 Kotoshiro        2018.0  \n",
       "0               0.0                 Kotoshiro        2018.0  \n",
       "0               0.0                 Kotoshiro        2018.0  \n",
       "0               0.0                 Kotoshiro        2018.0  \n",
       "...             ...                       ...           ...  \n",
       "28850           0.0  Laush Dmitriy Sergeevich        2018.0  \n",
       "28850           0.0  Laush Dmitriy Sergeevich        2018.0  \n",
       "28850           0.0  Laush Dmitriy Sergeevich        2018.0  \n",
       "28851           0.0             xropi,stev3ns        2017.0  \n",
       "28851           0.0             xropi,stev3ns        2017.0  \n",
       "\n",
       "[71554 rows x 10 columns]"
      ]
     },
     "execution_count": 17,
     "metadata": {},
     "output_type": "execute_result"
    }
   ],
   "source": [
    "df_games.explode('genres')"
   ]
  },
  {
   "cell_type": "code",
   "execution_count": 19,
   "metadata": {},
   "outputs": [
    {
     "data": {
      "text/plain": [
       "(28852, 10)"
      ]
     },
     "execution_count": 19,
     "metadata": {},
     "output_type": "execute_result"
    }
   ],
   "source": [
    "df_games.shape"
   ]
  },
  {
   "cell_type": "code",
   "execution_count": 20,
   "metadata": {},
   "outputs": [],
   "source": [
    "# Last but not least let's save it to a csv file\n",
    "\n",
    "df_games = df_games.to_csv('Games.csv', index=False)"
   ]
  },
  {
   "cell_type": "markdown",
   "metadata": {},
   "source": [
    "## Second Step: Let's clean 'df_reviews'"
   ]
  },
  {
   "cell_type": "code",
   "execution_count": null,
   "metadata": {},
   "outputs": [],
   "source": [
    "path2 = 'Datasets/user_reviews.json.gz'\n",
    "\n",
    "# Reading dataset\n",
    "reviews = read_path(path2)\n",
    "\n",
    "\n",
    "# Transforming dataset to dataframes ↓:\n",
    "df_reviews = pd.DataFrame(reviews)"
   ]
  },
  {
   "cell_type": "code",
   "execution_count": null,
   "metadata": {},
   "outputs": [],
   "source": [
    "df_reviews = unnesting(df_reviews, \"reviews\")"
   ]
  },
  {
   "cell_type": "code",
   "execution_count": null,
   "metadata": {},
   "outputs": [],
   "source": [
    "df_reviews.columns"
   ]
  },
  {
   "cell_type": "code",
   "execution_count": null,
   "metadata": {},
   "outputs": [],
   "source": [
    "# Transforming the date\n",
    "\n",
    "df_reviews[\"posted\"] = df_reviews[\"posted\"].str.extract(r\"Posted ([\\w\\s\\d,]+)\") \n",
    "df_reviews[\"posted_date\"] = df_reviews[\"posted\"].apply(datetime_change) \n",
    "df_reviews['posted_year'] = df_reviews[\"posted_date\"].dt.year\n"
   ]
  },
  {
   "cell_type": "code",
   "execution_count": null,
   "metadata": {},
   "outputs": [],
   "source": [
    "df_reviews.drop([\"reviews\",\"last_edited\",\"index\",\"posted\"], axis=1, inplace=True)"
   ]
  },
  {
   "cell_type": "code",
   "execution_count": null,
   "metadata": {},
   "outputs": [],
   "source": [
    "df_reviews.columns"
   ]
  },
  {
   "cell_type": "code",
   "execution_count": null,
   "metadata": {},
   "outputs": [],
   "source": [
    "df_reviews.to_csv(\"Reviews.csv\", index=False)"
   ]
  },
  {
   "cell_type": "markdown",
   "metadata": {},
   "source": [
    "## Third step: Cleaning 'df_items'"
   ]
  },
  {
   "cell_type": "code",
   "execution_count": null,
   "metadata": {},
   "outputs": [],
   "source": [
    "path3 = 'Datasets/users_items.json.gz'\n",
    "items = read_path(path3)"
   ]
  },
  {
   "cell_type": "code",
   "execution_count": null,
   "metadata": {},
   "outputs": [],
   "source": [
    "df_items = pd.DataFrame(items)"
   ]
  },
  {
   "cell_type": "code",
   "execution_count": null,
   "metadata": {},
   "outputs": [],
   "source": [
    "df_items.unstack()"
   ]
  },
  {
   "cell_type": "code",
   "execution_count": null,
   "metadata": {},
   "outputs": [],
   "source": [
    "df_items = unnesting(df_items, \"items\")"
   ]
  },
  {
   "cell_type": "code",
   "execution_count": null,
   "metadata": {},
   "outputs": [],
   "source": [
    "df_items.to_csv(\"DF Items.csv\", index=False)"
   ]
  },
  {
   "cell_type": "code",
   "execution_count": null,
   "metadata": {},
   "outputs": [],
   "source": [
    "DF_Items = pd.read_csv(\"DF Items.csv\")"
   ]
  },
  {
   "cell_type": "code",
   "execution_count": null,
   "metadata": {},
   "outputs": [],
   "source": [
    "DF_Items.drop(['items', 'index'], axis=1, inplace=True)"
   ]
  },
  {
   "cell_type": "code",
   "execution_count": null,
   "metadata": {},
   "outputs": [],
   "source": [
    "df_items.drop(['items', 'index'], axis=1, inplace=True)"
   ]
  },
  {
   "cell_type": "code",
   "execution_count": null,
   "metadata": {},
   "outputs": [],
   "source": [
    "df_items = df_items.to_parquet(\"Items.parquet\", index=False)"
   ]
  },
  {
   "cell_type": "code",
   "execution_count": null,
   "metadata": {},
   "outputs": [],
   "source": [
    "DF_Items.to_csv(\"DF Items.csv\", index=False)"
   ]
  },
  {
   "cell_type": "markdown",
   "metadata": {},
   "source": [
    "Why did I choose Parquet? This is related to the structure of the dataset itself.\n"
   ]
  },
  {
   "cell_type": "markdown",
   "metadata": {},
   "source": [
    "# General Information"
   ]
  },
  {
   "cell_type": "code",
   "execution_count": null,
   "metadata": {},
   "outputs": [],
   "source": [
    "DF_Items = pd.read_csv(\"DF Items.csv\")\n",
    "DF_Items.info()"
   ]
  },
  {
   "cell_type": "code",
   "execution_count": null,
   "metadata": {},
   "outputs": [],
   "source": [
    "Items = pd.read_parquet(\"Items.parquet\")\n",
    "Items.info()"
   ]
  },
  {
   "cell_type": "code",
   "execution_count": null,
   "metadata": {},
   "outputs": [],
   "source": [
    "Games = pd.read_csv('Games.csv')\n",
    "Games.info()"
   ]
  },
  {
   "cell_type": "code",
   "execution_count": null,
   "metadata": {},
   "outputs": [],
   "source": [
    "Reviews = pd.read_csv(\"Reviews.csv\")\n",
    "Reviews.info()"
   ]
  }
 ],
 "metadata": {
  "kernelspec": {
   "display_name": "base",
   "language": "python",
   "name": "python3"
  },
  "language_info": {
   "codemirror_mode": {
    "name": "ipython",
    "version": 3
   },
   "file_extension": ".py",
   "mimetype": "text/x-python",
   "name": "python",
   "nbconvert_exporter": "python",
   "pygments_lexer": "ipython3",
   "version": "3.11.5"
  }
 },
 "nbformat": 4,
 "nbformat_minor": 2
}
