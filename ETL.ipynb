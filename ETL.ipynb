{
 "cells": [
  {
   "cell_type": "code",
   "execution_count": 17,
   "metadata": {},
   "outputs": [],
   "source": [
    "# Importing libraries and paths\n",
    "\n",
    "import pandas as pd\n",
    "import gzip\n",
    "import ast\n",
    "from datetime import datetime\n",
    "import calendar \n",
    "import re\n",
    "# from textblob import TextBlob\n",
    "\n",
    "# Paths\n",
    "\n",
    "path1 = 'steam_games.json.gz'\n",
    "path2 = 'user_reviews.json.gz'\n",
    "path3 = 'users_items.json.gz'\n",
    "\n",
    "# Creating a function to read the paths\n",
    "\n",
    "def read_path(file):\n",
    "    with gzip.open(file, 'rt', encoding='utf-8') as myfile:\n",
    "        return [ast.literal_eval(line.strip()) for line in myfile]\n",
    "\n",
    "\n",
    "# We generated the function to unnest the 'items' and 'reviews' columns\n",
    "def unnest_items(df):\n",
    "    # Explode the 'items' column to create a new row for each element in the list\n",
    "    items = df['items'].explode()\n",
    "\n",
    "    # Drop the original 'items' column from the DataFrame\n",
    "    df = df.drop('items', axis=1)\n",
    "\n",
    "    # Join the exploded 'items' Series as new columns in the DataFrame\n",
    "    df = df.join(items.apply(pd.Series))\n",
    "\n",
    "    # Return the modified DataFrame\n",
    "    return df\n"
   ]
  },
  {
   "cell_type": "code",
   "execution_count": 29,
   "metadata": {},
   "outputs": [
    {
     "name": "stdout",
     "output_type": "stream",
     "text": [
      "<class 'pandas.core.frame.DataFrame'>\n",
      "RangeIndex: 88310 entries, 0 to 88309\n",
      "Data columns (total 5 columns):\n",
      " #   Column       Non-Null Count  Dtype \n",
      "---  ------       --------------  ----- \n",
      " 0   user_id      88310 non-null  object\n",
      " 1   items_count  88310 non-null  int64 \n",
      " 2   steam_id     88310 non-null  object\n",
      " 3   user_url     88310 non-null  object\n",
      " 4   items        88310 non-null  object\n",
      "dtypes: int64(1), object(4)\n",
      "memory usage: 3.4+ MB\n",
      "None\n"
     ]
    }
   ],
   "source": [
    "def read_path(file):\n",
    "    with gzip.open(file, 'rt', encoding='utf-8') as myfile:\n",
    "        return [ast.literal_eval(line.strip()) for line in myfile]\n",
    "\n",
    "items = read_path(path3)\n",
    "df = pd.DataFrame(items)\n",
    "print(df.info())"
   ]
  },
  {
   "cell_type": "code",
   "execution_count": 30,
   "metadata": {},
   "outputs": [],
   "source": [
    "#   Let's read all the datasets and save it in files\n",
    "\n",
    "# Reading the dataset from 'steam_games.json.gz' ↓↓↓\n",
    "with gzip.open(path1, 'rt', encoding='utf-8') as file:\n",
    "    df_games = pd.read_json(file, lines=True)\n",
    "\n",
    "df_games.to_csv(\"Games.csv\")\n",
    "# Saving ↑↑↑ our dataframe 'Games' to a csv file \n",
    "\n",
    "# Reading datasets \n",
    "reviews = read_path(path2)\n",
    "items = read_path(path3)\n",
    "\n",
    "# Transforming datasets to dataframes ↓:\n",
    "df_reviews = pd.DataFrame(reviews)\n",
    "df_items = pd.DataFrame(items)\n",
    "\n",
    "\n",
    "# Saving dataframes in csv and parquet files respectively ↓:\n",
    "df_reviews.to_csv(\"Reviews.csv\")\n",
    "df_items.to_parquet(\"Items.parquet\")\n",
    "\n",
    "# Why did I choose Parquet? This is related to the structure of the dataset itself.\n",
    "\n",
    "# Note: this cell might take some time to finish the task."
   ]
  },
  {
   "cell_type": "code",
   "execution_count": null,
   "metadata": {},
   "outputs": [],
   "source": [
    "# We read an element of the dataset to see what's inside \n"
   ]
  },
  {
   "cell_type": "code",
   "execution_count": 3,
   "metadata": {},
   "outputs": [
    {
     "name": "stdout",
     "output_type": "stream",
     "text": [
      "HOla este es otro mensaje de prueba...\n"
     ]
    }
   ],
   "source": []
  },
  {
   "cell_type": "code",
   "execution_count": null,
   "metadata": {},
   "outputs": [],
   "source": []
  }
 ],
 "metadata": {
  "kernelspec": {
   "display_name": "base",
   "language": "python",
   "name": "python3"
  },
  "language_info": {
   "codemirror_mode": {
    "name": "ipython",
    "version": 3
   },
   "file_extension": ".py",
   "mimetype": "text/x-python",
   "name": "python",
   "nbconvert_exporter": "python",
   "pygments_lexer": "ipython3",
   "version": "3.11.4"
  }
 },
 "nbformat": 4,
 "nbformat_minor": 2
}
