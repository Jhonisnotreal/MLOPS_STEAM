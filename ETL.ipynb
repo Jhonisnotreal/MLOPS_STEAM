{
 "cells": [
  {
   "cell_type": "markdown",
   "metadata": {},
   "source": [
    "# Importing Libraries, defining paths & creating functions"
   ]
  },
  {
   "cell_type": "code",
   "execution_count": 1,
   "metadata": {},
   "outputs": [],
   "source": [
    "# Importing libraries and paths\n",
    "\n",
    "import pandas as pd\n",
    "import gzip\n",
    "import ast\n",
    "\n",
    "# Creating a function to read the paths\n",
    "\n",
    "def read_path(file):\n",
    "    with gzip.open(file, 'rt', encoding='utf-8') as myfile:\n",
    "        return [ast.literal_eval(line.strip()) for line in myfile]\n",
    "    \n",
    "# Creating a function to change datetime in columns\n",
    "    \n",
    "def datetime_change(var):\n",
    "\n",
    "    if pd.isna(var):\n",
    "        return None\n",
    "\n",
    "    try:\n",
    "        return pd.to_datetime(var)\n",
    "    except ValueError:\n",
    "        return None\n",
    "    \n",
    "\n",
    "# Creating a function to unnest data in columns\n",
    "    \n",
    "def unnesting(dataframe,column):\n",
    "    \n",
    "    df_aux = dataframe.explode(column)\n",
    "    df_normal = pd.json_normalize(df_aux[column].dropna())\n",
    "\n",
    "    df_aux.reset_index(inplace=True)\n",
    "    df_normal.reset_index(inplace=True)\n",
    "    dataframe = pd.concat([df_aux,df_normal],axis=1)\n",
    "    dataframe.dropna(inplace=True)\n",
    "    \n",
    "    return dataframe\n",
    "\n",
    "# This function changes dtype to float and deletes string values\n",
    "\n",
    "def to_float(data):\n",
    "    if pd.isna(data):\n",
    "        return 0.0\n",
    "        \n",
    "    try:\n",
    "        return float(data)\n",
    "    except(ValueError, TypeError):\n",
    "        return 0.0\n",
    "    \n",
    "# This function tell us the percentage of nulls from columns\n",
    "\n",
    "def null_ratio(Dataset):\n",
    "    null_ratio = ((Dataset.isnull().sum() / len(Dataset))*100).sort_values(ascending=False)\n",
    "    return null_ratio"
   ]
  },
  {
   "cell_type": "markdown",
   "metadata": {},
   "source": [
    "## First, let's begin cleaning 'steam_games.json.gz'"
   ]
  },
  {
   "cell_type": "code",
   "execution_count": 120,
   "metadata": {},
   "outputs": [],
   "source": [
    "# Defining path where is data\n",
    "path1 = 'Datasets/steam_games.json.gz'"
   ]
  },
  {
   "cell_type": "code",
   "execution_count": 121,
   "metadata": {},
   "outputs": [],
   "source": [
    "# Reading the dataset from 'steam_games.json.gz' ↓↓↓\n",
    "with gzip.open(path1, 'rt', encoding='utf-8') as file:\n",
    "    df_games = pd.read_json(file, lines=True)"
   ]
  },
  {
   "cell_type": "code",
   "execution_count": 122,
   "metadata": {},
   "outputs": [
    {
     "name": "stdout",
     "output_type": "stream",
     "text": [
      "(120445, 13)\n",
      "Index(['publisher', 'genres', 'app_name', 'title', 'url', 'release_date',\n",
      "       'tags', 'reviews_url', 'specs', 'price', 'early_access', 'id',\n",
      "       'developer'],\n",
      "      dtype='object')\n"
     ]
    }
   ],
   "source": [
    "# Number of rows and columns in our dataset:\n",
    "print(df_games.shape)\n",
    "\n",
    "# Name of columns:\n",
    "print(df_games.columns)"
   ]
  },
  {
   "cell_type": "code",
   "execution_count": 123,
   "metadata": {},
   "outputs": [
    {
     "data": {
      "text/html": [
       "<div>\n",
       "<style scoped>\n",
       "    .dataframe tbody tr th:only-of-type {\n",
       "        vertical-align: middle;\n",
       "    }\n",
       "\n",
       "    .dataframe tbody tr th {\n",
       "        vertical-align: top;\n",
       "    }\n",
       "\n",
       "    .dataframe thead th {\n",
       "        text-align: right;\n",
       "    }\n",
       "</style>\n",
       "<table border=\"1\" class=\"dataframe\">\n",
       "  <thead>\n",
       "    <tr style=\"text-align: right;\">\n",
       "      <th></th>\n",
       "      <th>publisher</th>\n",
       "      <th>genres</th>\n",
       "      <th>app_name</th>\n",
       "      <th>title</th>\n",
       "      <th>url</th>\n",
       "      <th>release_date</th>\n",
       "      <th>tags</th>\n",
       "      <th>reviews_url</th>\n",
       "      <th>specs</th>\n",
       "      <th>price</th>\n",
       "      <th>early_access</th>\n",
       "      <th>id</th>\n",
       "      <th>developer</th>\n",
       "    </tr>\n",
       "  </thead>\n",
       "  <tbody>\n",
       "    <tr>\n",
       "      <th>0</th>\n",
       "      <td>None</td>\n",
       "      <td>None</td>\n",
       "      <td>None</td>\n",
       "      <td>None</td>\n",
       "      <td>None</td>\n",
       "      <td>None</td>\n",
       "      <td>None</td>\n",
       "      <td>None</td>\n",
       "      <td>None</td>\n",
       "      <td>None</td>\n",
       "      <td>NaN</td>\n",
       "      <td>NaN</td>\n",
       "      <td>None</td>\n",
       "    </tr>\n",
       "    <tr>\n",
       "      <th>1</th>\n",
       "      <td>None</td>\n",
       "      <td>None</td>\n",
       "      <td>None</td>\n",
       "      <td>None</td>\n",
       "      <td>None</td>\n",
       "      <td>None</td>\n",
       "      <td>None</td>\n",
       "      <td>None</td>\n",
       "      <td>None</td>\n",
       "      <td>None</td>\n",
       "      <td>NaN</td>\n",
       "      <td>NaN</td>\n",
       "      <td>None</td>\n",
       "    </tr>\n",
       "    <tr>\n",
       "      <th>2</th>\n",
       "      <td>None</td>\n",
       "      <td>None</td>\n",
       "      <td>None</td>\n",
       "      <td>None</td>\n",
       "      <td>None</td>\n",
       "      <td>None</td>\n",
       "      <td>None</td>\n",
       "      <td>None</td>\n",
       "      <td>None</td>\n",
       "      <td>None</td>\n",
       "      <td>NaN</td>\n",
       "      <td>NaN</td>\n",
       "      <td>None</td>\n",
       "    </tr>\n",
       "    <tr>\n",
       "      <th>3</th>\n",
       "      <td>None</td>\n",
       "      <td>None</td>\n",
       "      <td>None</td>\n",
       "      <td>None</td>\n",
       "      <td>None</td>\n",
       "      <td>None</td>\n",
       "      <td>None</td>\n",
       "      <td>None</td>\n",
       "      <td>None</td>\n",
       "      <td>None</td>\n",
       "      <td>NaN</td>\n",
       "      <td>NaN</td>\n",
       "      <td>None</td>\n",
       "    </tr>\n",
       "    <tr>\n",
       "      <th>4</th>\n",
       "      <td>None</td>\n",
       "      <td>None</td>\n",
       "      <td>None</td>\n",
       "      <td>None</td>\n",
       "      <td>None</td>\n",
       "      <td>None</td>\n",
       "      <td>None</td>\n",
       "      <td>None</td>\n",
       "      <td>None</td>\n",
       "      <td>None</td>\n",
       "      <td>NaN</td>\n",
       "      <td>NaN</td>\n",
       "      <td>None</td>\n",
       "    </tr>\n",
       "    <tr>\n",
       "      <th>...</th>\n",
       "      <td>...</td>\n",
       "      <td>...</td>\n",
       "      <td>...</td>\n",
       "      <td>...</td>\n",
       "      <td>...</td>\n",
       "      <td>...</td>\n",
       "      <td>...</td>\n",
       "      <td>...</td>\n",
       "      <td>...</td>\n",
       "      <td>...</td>\n",
       "      <td>...</td>\n",
       "      <td>...</td>\n",
       "      <td>...</td>\n",
       "    </tr>\n",
       "    <tr>\n",
       "      <th>120440</th>\n",
       "      <td>Ghost_RUS Games</td>\n",
       "      <td>[Casual, Indie, Simulation, Strategy]</td>\n",
       "      <td>Colony On Mars</td>\n",
       "      <td>Colony On Mars</td>\n",
       "      <td>http://store.steampowered.com/app/773640/Colon...</td>\n",
       "      <td>2018-01-04</td>\n",
       "      <td>[Strategy, Indie, Casual, Simulation]</td>\n",
       "      <td>http://steamcommunity.com/app/773640/reviews/?...</td>\n",
       "      <td>[Single-player, Steam Achievements]</td>\n",
       "      <td>1.99</td>\n",
       "      <td>0.0</td>\n",
       "      <td>773640.0</td>\n",
       "      <td>Nikita \"Ghost_RUS\"</td>\n",
       "    </tr>\n",
       "    <tr>\n",
       "      <th>120441</th>\n",
       "      <td>Sacada</td>\n",
       "      <td>[Casual, Indie, Strategy]</td>\n",
       "      <td>LOGistICAL: South Africa</td>\n",
       "      <td>LOGistICAL: South Africa</td>\n",
       "      <td>http://store.steampowered.com/app/733530/LOGis...</td>\n",
       "      <td>2018-01-04</td>\n",
       "      <td>[Strategy, Indie, Casual]</td>\n",
       "      <td>http://steamcommunity.com/app/733530/reviews/?...</td>\n",
       "      <td>[Single-player, Steam Achievements, Steam Clou...</td>\n",
       "      <td>4.99</td>\n",
       "      <td>0.0</td>\n",
       "      <td>733530.0</td>\n",
       "      <td>Sacada</td>\n",
       "    </tr>\n",
       "    <tr>\n",
       "      <th>120442</th>\n",
       "      <td>Laush Studio</td>\n",
       "      <td>[Indie, Racing, Simulation]</td>\n",
       "      <td>Russian Roads</td>\n",
       "      <td>Russian Roads</td>\n",
       "      <td>http://store.steampowered.com/app/610660/Russi...</td>\n",
       "      <td>2018-01-04</td>\n",
       "      <td>[Indie, Simulation, Racing]</td>\n",
       "      <td>http://steamcommunity.com/app/610660/reviews/?...</td>\n",
       "      <td>[Single-player, Steam Achievements, Steam Trad...</td>\n",
       "      <td>1.99</td>\n",
       "      <td>0.0</td>\n",
       "      <td>610660.0</td>\n",
       "      <td>Laush Dmitriy Sergeevich</td>\n",
       "    </tr>\n",
       "    <tr>\n",
       "      <th>120443</th>\n",
       "      <td>SIXNAILS</td>\n",
       "      <td>[Casual, Indie]</td>\n",
       "      <td>EXIT 2 - Directions</td>\n",
       "      <td>EXIT 2 - Directions</td>\n",
       "      <td>http://store.steampowered.com/app/658870/EXIT_...</td>\n",
       "      <td>2017-09-02</td>\n",
       "      <td>[Indie, Casual, Puzzle, Singleplayer, Atmosphe...</td>\n",
       "      <td>http://steamcommunity.com/app/658870/reviews/?...</td>\n",
       "      <td>[Single-player, Steam Achievements, Steam Cloud]</td>\n",
       "      <td>4.99</td>\n",
       "      <td>0.0</td>\n",
       "      <td>658870.0</td>\n",
       "      <td>xropi,stev3ns</td>\n",
       "    </tr>\n",
       "    <tr>\n",
       "      <th>120444</th>\n",
       "      <td>None</td>\n",
       "      <td>None</td>\n",
       "      <td>Maze Run VR</td>\n",
       "      <td>None</td>\n",
       "      <td>http://store.steampowered.com/app/681550/Maze_...</td>\n",
       "      <td>None</td>\n",
       "      <td>[Early Access, Adventure, Indie, Action, Simul...</td>\n",
       "      <td>http://steamcommunity.com/app/681550/reviews/?...</td>\n",
       "      <td>[Single-player, Stats, Steam Leaderboards, HTC...</td>\n",
       "      <td>4.99</td>\n",
       "      <td>1.0</td>\n",
       "      <td>681550.0</td>\n",
       "      <td>None</td>\n",
       "    </tr>\n",
       "  </tbody>\n",
       "</table>\n",
       "<p>120445 rows × 13 columns</p>\n",
       "</div>"
      ],
      "text/plain": [
       "              publisher                                 genres  \\\n",
       "0                  None                                   None   \n",
       "1                  None                                   None   \n",
       "2                  None                                   None   \n",
       "3                  None                                   None   \n",
       "4                  None                                   None   \n",
       "...                 ...                                    ...   \n",
       "120440  Ghost_RUS Games  [Casual, Indie, Simulation, Strategy]   \n",
       "120441           Sacada              [Casual, Indie, Strategy]   \n",
       "120442     Laush Studio            [Indie, Racing, Simulation]   \n",
       "120443         SIXNAILS                        [Casual, Indie]   \n",
       "120444             None                                   None   \n",
       "\n",
       "                        app_name                     title  \\\n",
       "0                           None                      None   \n",
       "1                           None                      None   \n",
       "2                           None                      None   \n",
       "3                           None                      None   \n",
       "4                           None                      None   \n",
       "...                          ...                       ...   \n",
       "120440            Colony On Mars            Colony On Mars   \n",
       "120441  LOGistICAL: South Africa  LOGistICAL: South Africa   \n",
       "120442             Russian Roads             Russian Roads   \n",
       "120443       EXIT 2 - Directions       EXIT 2 - Directions   \n",
       "120444               Maze Run VR                      None   \n",
       "\n",
       "                                                      url release_date  \\\n",
       "0                                                    None         None   \n",
       "1                                                    None         None   \n",
       "2                                                    None         None   \n",
       "3                                                    None         None   \n",
       "4                                                    None         None   \n",
       "...                                                   ...          ...   \n",
       "120440  http://store.steampowered.com/app/773640/Colon...   2018-01-04   \n",
       "120441  http://store.steampowered.com/app/733530/LOGis...   2018-01-04   \n",
       "120442  http://store.steampowered.com/app/610660/Russi...   2018-01-04   \n",
       "120443  http://store.steampowered.com/app/658870/EXIT_...   2017-09-02   \n",
       "120444  http://store.steampowered.com/app/681550/Maze_...         None   \n",
       "\n",
       "                                                     tags  \\\n",
       "0                                                    None   \n",
       "1                                                    None   \n",
       "2                                                    None   \n",
       "3                                                    None   \n",
       "4                                                    None   \n",
       "...                                                   ...   \n",
       "120440              [Strategy, Indie, Casual, Simulation]   \n",
       "120441                          [Strategy, Indie, Casual]   \n",
       "120442                        [Indie, Simulation, Racing]   \n",
       "120443  [Indie, Casual, Puzzle, Singleplayer, Atmosphe...   \n",
       "120444  [Early Access, Adventure, Indie, Action, Simul...   \n",
       "\n",
       "                                              reviews_url  \\\n",
       "0                                                    None   \n",
       "1                                                    None   \n",
       "2                                                    None   \n",
       "3                                                    None   \n",
       "4                                                    None   \n",
       "...                                                   ...   \n",
       "120440  http://steamcommunity.com/app/773640/reviews/?...   \n",
       "120441  http://steamcommunity.com/app/733530/reviews/?...   \n",
       "120442  http://steamcommunity.com/app/610660/reviews/?...   \n",
       "120443  http://steamcommunity.com/app/658870/reviews/?...   \n",
       "120444  http://steamcommunity.com/app/681550/reviews/?...   \n",
       "\n",
       "                                                    specs price  early_access  \\\n",
       "0                                                    None  None           NaN   \n",
       "1                                                    None  None           NaN   \n",
       "2                                                    None  None           NaN   \n",
       "3                                                    None  None           NaN   \n",
       "4                                                    None  None           NaN   \n",
       "...                                                   ...   ...           ...   \n",
       "120440                [Single-player, Steam Achievements]  1.99           0.0   \n",
       "120441  [Single-player, Steam Achievements, Steam Clou...  4.99           0.0   \n",
       "120442  [Single-player, Steam Achievements, Steam Trad...  1.99           0.0   \n",
       "120443   [Single-player, Steam Achievements, Steam Cloud]  4.99           0.0   \n",
       "120444  [Single-player, Stats, Steam Leaderboards, HTC...  4.99           1.0   \n",
       "\n",
       "              id                 developer  \n",
       "0            NaN                      None  \n",
       "1            NaN                      None  \n",
       "2            NaN                      None  \n",
       "3            NaN                      None  \n",
       "4            NaN                      None  \n",
       "...          ...                       ...  \n",
       "120440  773640.0        Nikita \"Ghost_RUS\"  \n",
       "120441  733530.0                    Sacada  \n",
       "120442  610660.0  Laush Dmitriy Sergeevich  \n",
       "120443  658870.0             xropi,stev3ns  \n",
       "120444  681550.0                      None  \n",
       "\n",
       "[120445 rows x 13 columns]"
      ]
     },
     "execution_count": 123,
     "metadata": {},
     "output_type": "execute_result"
    }
   ],
   "source": [
    "# We see the big picture of our dataset\n",
    "df_games"
   ]
  },
  {
   "cell_type": "code",
   "execution_count": 124,
   "metadata": {},
   "outputs": [
    {
     "data": {
      "text/plain": [
       "publisher       80.004982\n",
       "developer       76.058782\n",
       "genres          76.045498\n",
       "release_date    75.035909\n",
       "title           75.021794\n",
       "price           74.463033\n",
       "specs           73.876043\n",
       "tags            73.455104\n",
       "app_name        73.321433\n",
       "reviews_url     73.321433\n",
       "id              73.321433\n",
       "url             73.319773\n",
       "early_access    73.319773\n",
       "dtype: float64"
      ]
     },
     "execution_count": 124,
     "metadata": {},
     "output_type": "execute_result"
    }
   ],
   "source": [
    "# We calculate the null ratio from our dataset\n",
    "nulls = null_ratio(df_games)\n",
    "nulls"
   ]
  },
  {
   "cell_type": "code",
   "execution_count": 125,
   "metadata": {},
   "outputs": [],
   "source": [
    "# We fill null values with 'No data'\n",
    "df_games.fillna(\"No data\", inplace=True)"
   ]
  },
  {
   "cell_type": "code",
   "execution_count": 126,
   "metadata": {},
   "outputs": [
    {
     "data": {
      "text/plain": [
       "publisher       0.0\n",
       "genres          0.0\n",
       "app_name        0.0\n",
       "title           0.0\n",
       "url             0.0\n",
       "release_date    0.0\n",
       "tags            0.0\n",
       "reviews_url     0.0\n",
       "specs           0.0\n",
       "price           0.0\n",
       "early_access    0.0\n",
       "id              0.0\n",
       "developer       0.0\n",
       "dtype: float64"
      ]
     },
     "execution_count": 126,
     "metadata": {},
     "output_type": "execute_result"
    }
   ],
   "source": [
    "# We calculate the null ratio again\n",
    "nulls = null_ratio(df_games)\n",
    "nulls"
   ]
  },
  {
   "cell_type": "code",
   "execution_count": 127,
   "metadata": {},
   "outputs": [
    {
     "data": {
      "text/plain": [
       "(32133, 13)"
      ]
     },
     "execution_count": 127,
     "metadata": {},
     "output_type": "execute_result"
    }
   ],
   "source": [
    "# We delete the duplicates and see the quantity of rows and columns\n",
    "\n",
    "df_games.drop_duplicates(subset='id', inplace=True)\n",
    "df_games.shape"
   ]
  },
  {
   "cell_type": "code",
   "execution_count": 128,
   "metadata": {},
   "outputs": [
    {
     "data": {
      "text/html": [
       "<div>\n",
       "<style scoped>\n",
       "    .dataframe tbody tr th:only-of-type {\n",
       "        vertical-align: middle;\n",
       "    }\n",
       "\n",
       "    .dataframe tbody tr th {\n",
       "        vertical-align: top;\n",
       "    }\n",
       "\n",
       "    .dataframe thead th {\n",
       "        text-align: right;\n",
       "    }\n",
       "</style>\n",
       "<table border=\"1\" class=\"dataframe\">\n",
       "  <thead>\n",
       "    <tr style=\"text-align: right;\">\n",
       "      <th></th>\n",
       "      <th>publisher</th>\n",
       "      <th>genres</th>\n",
       "      <th>app_name</th>\n",
       "      <th>title</th>\n",
       "      <th>url</th>\n",
       "      <th>release_date</th>\n",
       "      <th>tags</th>\n",
       "      <th>reviews_url</th>\n",
       "      <th>specs</th>\n",
       "      <th>price</th>\n",
       "      <th>early_access</th>\n",
       "      <th>id</th>\n",
       "      <th>developer</th>\n",
       "    </tr>\n",
       "  </thead>\n",
       "  <tbody>\n",
       "    <tr>\n",
       "      <th>0</th>\n",
       "      <td>No data</td>\n",
       "      <td>No data</td>\n",
       "      <td>No data</td>\n",
       "      <td>No data</td>\n",
       "      <td>No data</td>\n",
       "      <td>No data</td>\n",
       "      <td>No data</td>\n",
       "      <td>No data</td>\n",
       "      <td>No data</td>\n",
       "      <td>No data</td>\n",
       "      <td>No data</td>\n",
       "      <td>No data</td>\n",
       "      <td>No data</td>\n",
       "    </tr>\n",
       "    <tr>\n",
       "      <th>88310</th>\n",
       "      <td>Kotoshiro</td>\n",
       "      <td>[Action, Casual, Indie, Simulation, Strategy]</td>\n",
       "      <td>Lost Summoner Kitty</td>\n",
       "      <td>Lost Summoner Kitty</td>\n",
       "      <td>http://store.steampowered.com/app/761140/Lost_...</td>\n",
       "      <td>2018-01-04</td>\n",
       "      <td>[Strategy, Action, Indie, Casual, Simulation]</td>\n",
       "      <td>http://steamcommunity.com/app/761140/reviews/?...</td>\n",
       "      <td>[Single-player]</td>\n",
       "      <td>4.99</td>\n",
       "      <td>0.0</td>\n",
       "      <td>761140.0</td>\n",
       "      <td>Kotoshiro</td>\n",
       "    </tr>\n",
       "    <tr>\n",
       "      <th>88311</th>\n",
       "      <td>Making Fun, Inc.</td>\n",
       "      <td>[Free to Play, Indie, RPG, Strategy]</td>\n",
       "      <td>Ironbound</td>\n",
       "      <td>Ironbound</td>\n",
       "      <td>http://store.steampowered.com/app/643980/Ironb...</td>\n",
       "      <td>2018-01-04</td>\n",
       "      <td>[Free to Play, Strategy, Indie, RPG, Card Game...</td>\n",
       "      <td>http://steamcommunity.com/app/643980/reviews/?...</td>\n",
       "      <td>[Single-player, Multi-player, Online Multi-Pla...</td>\n",
       "      <td>Free To Play</td>\n",
       "      <td>0.0</td>\n",
       "      <td>643980.0</td>\n",
       "      <td>Secret Level SRL</td>\n",
       "    </tr>\n",
       "    <tr>\n",
       "      <th>88312</th>\n",
       "      <td>Poolians.com</td>\n",
       "      <td>[Casual, Free to Play, Indie, Simulation, Sports]</td>\n",
       "      <td>Real Pool 3D - Poolians</td>\n",
       "      <td>Real Pool 3D - Poolians</td>\n",
       "      <td>http://store.steampowered.com/app/670290/Real_...</td>\n",
       "      <td>2017-07-24</td>\n",
       "      <td>[Free to Play, Simulation, Sports, Casual, Ind...</td>\n",
       "      <td>http://steamcommunity.com/app/670290/reviews/?...</td>\n",
       "      <td>[Single-player, Multi-player, Online Multi-Pla...</td>\n",
       "      <td>Free to Play</td>\n",
       "      <td>0.0</td>\n",
       "      <td>670290.0</td>\n",
       "      <td>Poolians.com</td>\n",
       "    </tr>\n",
       "    <tr>\n",
       "      <th>88313</th>\n",
       "      <td>彼岸领域</td>\n",
       "      <td>[Action, Adventure, Casual]</td>\n",
       "      <td>弹炸人2222</td>\n",
       "      <td>弹炸人2222</td>\n",
       "      <td>http://store.steampowered.com/app/767400/2222/</td>\n",
       "      <td>2017-12-07</td>\n",
       "      <td>[Action, Adventure, Casual]</td>\n",
       "      <td>http://steamcommunity.com/app/767400/reviews/?...</td>\n",
       "      <td>[Single-player]</td>\n",
       "      <td>0.99</td>\n",
       "      <td>0.0</td>\n",
       "      <td>767400.0</td>\n",
       "      <td>彼岸领域</td>\n",
       "    </tr>\n",
       "    <tr>\n",
       "      <th>...</th>\n",
       "      <td>...</td>\n",
       "      <td>...</td>\n",
       "      <td>...</td>\n",
       "      <td>...</td>\n",
       "      <td>...</td>\n",
       "      <td>...</td>\n",
       "      <td>...</td>\n",
       "      <td>...</td>\n",
       "      <td>...</td>\n",
       "      <td>...</td>\n",
       "      <td>...</td>\n",
       "      <td>...</td>\n",
       "      <td>...</td>\n",
       "    </tr>\n",
       "    <tr>\n",
       "      <th>120440</th>\n",
       "      <td>Ghost_RUS Games</td>\n",
       "      <td>[Casual, Indie, Simulation, Strategy]</td>\n",
       "      <td>Colony On Mars</td>\n",
       "      <td>Colony On Mars</td>\n",
       "      <td>http://store.steampowered.com/app/773640/Colon...</td>\n",
       "      <td>2018-01-04</td>\n",
       "      <td>[Strategy, Indie, Casual, Simulation]</td>\n",
       "      <td>http://steamcommunity.com/app/773640/reviews/?...</td>\n",
       "      <td>[Single-player, Steam Achievements]</td>\n",
       "      <td>1.99</td>\n",
       "      <td>0.0</td>\n",
       "      <td>773640.0</td>\n",
       "      <td>Nikita \"Ghost_RUS\"</td>\n",
       "    </tr>\n",
       "    <tr>\n",
       "      <th>120441</th>\n",
       "      <td>Sacada</td>\n",
       "      <td>[Casual, Indie, Strategy]</td>\n",
       "      <td>LOGistICAL: South Africa</td>\n",
       "      <td>LOGistICAL: South Africa</td>\n",
       "      <td>http://store.steampowered.com/app/733530/LOGis...</td>\n",
       "      <td>2018-01-04</td>\n",
       "      <td>[Strategy, Indie, Casual]</td>\n",
       "      <td>http://steamcommunity.com/app/733530/reviews/?...</td>\n",
       "      <td>[Single-player, Steam Achievements, Steam Clou...</td>\n",
       "      <td>4.99</td>\n",
       "      <td>0.0</td>\n",
       "      <td>733530.0</td>\n",
       "      <td>Sacada</td>\n",
       "    </tr>\n",
       "    <tr>\n",
       "      <th>120442</th>\n",
       "      <td>Laush Studio</td>\n",
       "      <td>[Indie, Racing, Simulation]</td>\n",
       "      <td>Russian Roads</td>\n",
       "      <td>Russian Roads</td>\n",
       "      <td>http://store.steampowered.com/app/610660/Russi...</td>\n",
       "      <td>2018-01-04</td>\n",
       "      <td>[Indie, Simulation, Racing]</td>\n",
       "      <td>http://steamcommunity.com/app/610660/reviews/?...</td>\n",
       "      <td>[Single-player, Steam Achievements, Steam Trad...</td>\n",
       "      <td>1.99</td>\n",
       "      <td>0.0</td>\n",
       "      <td>610660.0</td>\n",
       "      <td>Laush Dmitriy Sergeevich</td>\n",
       "    </tr>\n",
       "    <tr>\n",
       "      <th>120443</th>\n",
       "      <td>SIXNAILS</td>\n",
       "      <td>[Casual, Indie]</td>\n",
       "      <td>EXIT 2 - Directions</td>\n",
       "      <td>EXIT 2 - Directions</td>\n",
       "      <td>http://store.steampowered.com/app/658870/EXIT_...</td>\n",
       "      <td>2017-09-02</td>\n",
       "      <td>[Indie, Casual, Puzzle, Singleplayer, Atmosphe...</td>\n",
       "      <td>http://steamcommunity.com/app/658870/reviews/?...</td>\n",
       "      <td>[Single-player, Steam Achievements, Steam Cloud]</td>\n",
       "      <td>4.99</td>\n",
       "      <td>0.0</td>\n",
       "      <td>658870.0</td>\n",
       "      <td>xropi,stev3ns</td>\n",
       "    </tr>\n",
       "    <tr>\n",
       "      <th>120444</th>\n",
       "      <td>No data</td>\n",
       "      <td>No data</td>\n",
       "      <td>Maze Run VR</td>\n",
       "      <td>No data</td>\n",
       "      <td>http://store.steampowered.com/app/681550/Maze_...</td>\n",
       "      <td>No data</td>\n",
       "      <td>[Early Access, Adventure, Indie, Action, Simul...</td>\n",
       "      <td>http://steamcommunity.com/app/681550/reviews/?...</td>\n",
       "      <td>[Single-player, Stats, Steam Leaderboards, HTC...</td>\n",
       "      <td>4.99</td>\n",
       "      <td>1.0</td>\n",
       "      <td>681550.0</td>\n",
       "      <td>No data</td>\n",
       "    </tr>\n",
       "  </tbody>\n",
       "</table>\n",
       "<p>32133 rows × 13 columns</p>\n",
       "</div>"
      ],
      "text/plain": [
       "               publisher                                             genres  \\\n",
       "0                No data                                            No data   \n",
       "88310          Kotoshiro      [Action, Casual, Indie, Simulation, Strategy]   \n",
       "88311   Making Fun, Inc.               [Free to Play, Indie, RPG, Strategy]   \n",
       "88312       Poolians.com  [Casual, Free to Play, Indie, Simulation, Sports]   \n",
       "88313               彼岸领域                        [Action, Adventure, Casual]   \n",
       "...                  ...                                                ...   \n",
       "120440   Ghost_RUS Games              [Casual, Indie, Simulation, Strategy]   \n",
       "120441            Sacada                          [Casual, Indie, Strategy]   \n",
       "120442      Laush Studio                        [Indie, Racing, Simulation]   \n",
       "120443          SIXNAILS                                    [Casual, Indie]   \n",
       "120444           No data                                            No data   \n",
       "\n",
       "                        app_name                     title  \\\n",
       "0                        No data                   No data   \n",
       "88310        Lost Summoner Kitty       Lost Summoner Kitty   \n",
       "88311                  Ironbound                 Ironbound   \n",
       "88312    Real Pool 3D - Poolians   Real Pool 3D - Poolians   \n",
       "88313                    弹炸人2222                   弹炸人2222   \n",
       "...                          ...                       ...   \n",
       "120440            Colony On Mars            Colony On Mars   \n",
       "120441  LOGistICAL: South Africa  LOGistICAL: South Africa   \n",
       "120442             Russian Roads             Russian Roads   \n",
       "120443       EXIT 2 - Directions       EXIT 2 - Directions   \n",
       "120444               Maze Run VR                   No data   \n",
       "\n",
       "                                                      url release_date  \\\n",
       "0                                                 No data      No data   \n",
       "88310   http://store.steampowered.com/app/761140/Lost_...   2018-01-04   \n",
       "88311   http://store.steampowered.com/app/643980/Ironb...   2018-01-04   \n",
       "88312   http://store.steampowered.com/app/670290/Real_...   2017-07-24   \n",
       "88313      http://store.steampowered.com/app/767400/2222/   2017-12-07   \n",
       "...                                                   ...          ...   \n",
       "120440  http://store.steampowered.com/app/773640/Colon...   2018-01-04   \n",
       "120441  http://store.steampowered.com/app/733530/LOGis...   2018-01-04   \n",
       "120442  http://store.steampowered.com/app/610660/Russi...   2018-01-04   \n",
       "120443  http://store.steampowered.com/app/658870/EXIT_...   2017-09-02   \n",
       "120444  http://store.steampowered.com/app/681550/Maze_...      No data   \n",
       "\n",
       "                                                     tags  \\\n",
       "0                                                 No data   \n",
       "88310       [Strategy, Action, Indie, Casual, Simulation]   \n",
       "88311   [Free to Play, Strategy, Indie, RPG, Card Game...   \n",
       "88312   [Free to Play, Simulation, Sports, Casual, Ind...   \n",
       "88313                         [Action, Adventure, Casual]   \n",
       "...                                                   ...   \n",
       "120440              [Strategy, Indie, Casual, Simulation]   \n",
       "120441                          [Strategy, Indie, Casual]   \n",
       "120442                        [Indie, Simulation, Racing]   \n",
       "120443  [Indie, Casual, Puzzle, Singleplayer, Atmosphe...   \n",
       "120444  [Early Access, Adventure, Indie, Action, Simul...   \n",
       "\n",
       "                                              reviews_url  \\\n",
       "0                                                 No data   \n",
       "88310   http://steamcommunity.com/app/761140/reviews/?...   \n",
       "88311   http://steamcommunity.com/app/643980/reviews/?...   \n",
       "88312   http://steamcommunity.com/app/670290/reviews/?...   \n",
       "88313   http://steamcommunity.com/app/767400/reviews/?...   \n",
       "...                                                   ...   \n",
       "120440  http://steamcommunity.com/app/773640/reviews/?...   \n",
       "120441  http://steamcommunity.com/app/733530/reviews/?...   \n",
       "120442  http://steamcommunity.com/app/610660/reviews/?...   \n",
       "120443  http://steamcommunity.com/app/658870/reviews/?...   \n",
       "120444  http://steamcommunity.com/app/681550/reviews/?...   \n",
       "\n",
       "                                                    specs         price  \\\n",
       "0                                                 No data       No data   \n",
       "88310                                     [Single-player]          4.99   \n",
       "88311   [Single-player, Multi-player, Online Multi-Pla...  Free To Play   \n",
       "88312   [Single-player, Multi-player, Online Multi-Pla...  Free to Play   \n",
       "88313                                     [Single-player]          0.99   \n",
       "...                                                   ...           ...   \n",
       "120440                [Single-player, Steam Achievements]          1.99   \n",
       "120441  [Single-player, Steam Achievements, Steam Clou...          4.99   \n",
       "120442  [Single-player, Steam Achievements, Steam Trad...          1.99   \n",
       "120443   [Single-player, Steam Achievements, Steam Cloud]          4.99   \n",
       "120444  [Single-player, Stats, Steam Leaderboards, HTC...          4.99   \n",
       "\n",
       "       early_access        id                 developer  \n",
       "0           No data   No data                   No data  \n",
       "88310           0.0  761140.0                 Kotoshiro  \n",
       "88311           0.0  643980.0          Secret Level SRL  \n",
       "88312           0.0  670290.0              Poolians.com  \n",
       "88313           0.0  767400.0                      彼岸领域  \n",
       "...             ...       ...                       ...  \n",
       "120440          0.0  773640.0        Nikita \"Ghost_RUS\"  \n",
       "120441          0.0  733530.0                    Sacada  \n",
       "120442          0.0  610660.0  Laush Dmitriy Sergeevich  \n",
       "120443          0.0  658870.0             xropi,stev3ns  \n",
       "120444          1.0  681550.0                   No data  \n",
       "\n",
       "[32133 rows x 13 columns]"
      ]
     },
     "execution_count": 128,
     "metadata": {},
     "output_type": "execute_result"
    }
   ],
   "source": [
    "# We see our dataset again\n",
    "df_games"
   ]
  },
  {
   "cell_type": "code",
   "execution_count": 129,
   "metadata": {},
   "outputs": [],
   "source": [
    "# We unnest the list from our column 'genres' in our dataset\n",
    "genres = df_games.explode('genres')"
   ]
  },
  {
   "cell_type": "code",
   "execution_count": 130,
   "metadata": {},
   "outputs": [
    {
     "data": {
      "text/plain": [
       "genres\n",
       "Indie                        15858\n",
       "Action                       11319\n",
       "Casual                        8282\n",
       "Adventure                     8242\n",
       "Strategy                      6957\n",
       "Simulation                    6699\n",
       "RPG                           5479\n",
       "No data                       3283\n",
       "Free to Play                  2031\n",
       "Early Access                  1462\n",
       "Sports                        1257\n",
       "Massively Multiplayer         1108\n",
       "Racing                        1083\n",
       "Design &amp; Illustration      460\n",
       "Utilities                      340\n",
       "Web Publishing                 268\n",
       "Animation &amp; Modeling       183\n",
       "Education                      125\n",
       "Video Production               116\n",
       "Software Training              105\n",
       "Audio Production                93\n",
       "Photo Editing                   77\n",
       "Accounting                       7\n",
       "Name: count, dtype: int64"
      ]
     },
     "execution_count": 130,
     "metadata": {},
     "output_type": "execute_result"
    }
   ],
   "source": [
    "# We see how many values there are in the unnested column\n",
    "genres['genres'].value_counts()"
   ]
  },
  {
   "cell_type": "code",
   "execution_count": 131,
   "metadata": {},
   "outputs": [
    {
     "name": "stdout",
     "output_type": "stream",
     "text": [
      "<class 'pandas.core.frame.DataFrame'>\n",
      "(74834, 13)\n"
     ]
    },
    {
     "data": {
      "text/plain": [
       "Index(['publisher', 'genres', 'app_name', 'title', 'url', 'release_date',\n",
       "       'tags', 'reviews_url', 'specs', 'price', 'early_access', 'id',\n",
       "       'developer'],\n",
       "      dtype='object')"
      ]
     },
     "execution_count": 131,
     "metadata": {},
     "output_type": "execute_result"
    }
   ],
   "source": [
    "# We see the type of 'genres' and its shape\n",
    "print(type(genres))\n",
    "print(genres.shape)\n",
    "genres.columns"
   ]
  },
  {
   "cell_type": "code",
   "execution_count": 132,
   "metadata": {},
   "outputs": [
    {
     "name": "stdout",
     "output_type": "stream",
     "text": [
      "<class 'pandas.core.frame.DataFrame'>\n",
      "(32133, 13)\n"
     ]
    },
    {
     "data": {
      "text/plain": [
       "Index(['publisher', 'genres', 'app_name', 'title', 'url', 'release_date',\n",
       "       'tags', 'reviews_url', 'specs', 'price', 'early_access', 'id',\n",
       "       'developer'],\n",
       "      dtype='object')"
      ]
     },
     "execution_count": 132,
     "metadata": {},
     "output_type": "execute_result"
    }
   ],
   "source": [
    "# We do the same with our original dataframe\n",
    "print(type(df_games))\n",
    "print(df_games.shape)\n",
    "df_games.columns"
   ]
  },
  {
   "cell_type": "code",
   "execution_count": 133,
   "metadata": {},
   "outputs": [
    {
     "name": "stdout",
     "output_type": "stream",
     "text": [
      "publisher       0.0\n",
      "genres          0.0\n",
      "app_name        0.0\n",
      "title           0.0\n",
      "url             0.0\n",
      "release_date    0.0\n",
      "tags            0.0\n",
      "reviews_url     0.0\n",
      "specs           0.0\n",
      "price           0.0\n",
      "early_access    0.0\n",
      "id              0.0\n",
      "developer       0.0\n",
      "dtype: float64\n",
      "(32133, 13)\n"
     ]
    }
   ],
   "source": [
    "# We see the null ratio of our new dataframe 'genres' and we delete the duplicates\n",
    "print(null_ratio(genres))\n",
    "genres.drop_duplicates(subset='id', inplace=True)\n",
    "print(genres.shape)\n",
    "# Now our dataframe 'genres' has the same shape as our original dataframe 'df_games'"
   ]
  },
  {
   "cell_type": "code",
   "execution_count": 134,
   "metadata": {},
   "outputs": [
    {
     "name": "stdout",
     "output_type": "stream",
     "text": [
      "<class 'pandas.core.frame.DataFrame'>\n",
      "Index: 32133 entries, 0 to 120444\n",
      "Data columns (total 13 columns):\n",
      " #   Column        Non-Null Count  Dtype \n",
      "---  ------        --------------  ----- \n",
      " 0   publisher     32133 non-null  object\n",
      " 1   genres        32133 non-null  object\n",
      " 2   app_name      32133 non-null  object\n",
      " 3   title         32133 non-null  object\n",
      " 4   url           32133 non-null  object\n",
      " 5   release_date  32133 non-null  object\n",
      " 6   tags          32133 non-null  object\n",
      " 7   reviews_url   32133 non-null  object\n",
      " 8   specs         32133 non-null  object\n",
      " 9   price         32133 non-null  object\n",
      " 10  early_access  32133 non-null  object\n",
      " 11  id            32133 non-null  object\n",
      " 12  developer     32133 non-null  object\n",
      "dtypes: object(13)\n",
      "memory usage: 3.4+ MB\n"
     ]
    }
   ],
   "source": [
    "# Let's the dtype of our columns\n",
    "genres.info()"
   ]
  },
  {
   "cell_type": "code",
   "execution_count": 135,
   "metadata": {},
   "outputs": [],
   "source": [
    "# Deleting useless columns for our future EDA:\n",
    "\n",
    "genres.drop(['url','reviews_url','specs', 'id'],axis=1,inplace=True)\n",
    "\n",
    "# I use inplace=True because I want to change the original dataframe too\n",
    "\n",
    "# We reset the index:\n",
    "genres.reset_index(inplace=True)\n",
    " \n",
    "# And then, we delete it\n",
    "genres.drop(columns='index', inplace=True)"
   ]
  },
  {
   "cell_type": "code",
   "execution_count": 136,
   "metadata": {},
   "outputs": [
    {
     "name": "stdout",
     "output_type": "stream",
     "text": [
      "Index(['publisher', 'genres', 'app_name', 'title', 'release_date', 'tags',\n",
      "       'price', 'early_access', 'developer'],\n",
      "      dtype='object')\n",
      "(32133, 9)\n"
     ]
    }
   ],
   "source": [
    "# We see the resulting rows and columns in our dataframe 'genres'\n",
    "print(genres.columns)\n",
    "print(genres.shape)"
   ]
  },
  {
   "cell_type": "code",
   "execution_count": 137,
   "metadata": {},
   "outputs": [
    {
     "name": "stdout",
     "output_type": "stream",
     "text": [
      "0             No data\n",
      "1                4.99\n",
      "2        Free To Play\n",
      "3        Free to Play\n",
      "4                0.99\n",
      "             ...     \n",
      "32128            1.99\n",
      "32129            4.99\n",
      "32130            1.99\n",
      "32131            4.99\n",
      "32132            4.99\n",
      "Name: price, Length: 32133, dtype: object \n",
      " \n",
      "\n",
      "0           No data\n",
      "1        2018-01-04\n",
      "2        2018-01-04\n",
      "3        2017-07-24\n",
      "4        2017-12-07\n",
      "            ...    \n",
      "32128    2018-01-04\n",
      "32129    2018-01-04\n",
      "32130    2018-01-04\n",
      "32131    2017-09-02\n",
      "32132       No data\n",
      "Name: release_date, Length: 32133, dtype: object\n"
     ]
    }
   ],
   "source": [
    "# We see some wrong data in price and release_year\n",
    "print(genres['price'], '\\n', '\\n')\n",
    "print(genres['release_date'])"
   ]
  },
  {
   "cell_type": "code",
   "execution_count": 138,
   "metadata": {},
   "outputs": [
    {
     "name": "stdout",
     "output_type": "stream",
     "text": [
      "<class 'pandas.core.frame.DataFrame'>\n",
      "RangeIndex: 32133 entries, 0 to 32132\n",
      "Data columns (total 9 columns):\n",
      " #   Column        Non-Null Count  Dtype \n",
      "---  ------        --------------  ----- \n",
      " 0   publisher     32133 non-null  object\n",
      " 1   genres        32133 non-null  object\n",
      " 2   app_name      32133 non-null  object\n",
      " 3   title         32133 non-null  object\n",
      " 4   release_date  32133 non-null  object\n",
      " 5   tags          32133 non-null  object\n",
      " 6   price         32133 non-null  object\n",
      " 7   early_access  32133 non-null  object\n",
      " 8   developer     32133 non-null  object\n",
      "dtypes: object(9)\n",
      "memory usage: 2.2+ MB\n"
     ]
    }
   ],
   "source": [
    "# Let's change dtype object to float and datetime in 'price' and 'release_date'\n",
    "genres.info()"
   ]
  },
  {
   "cell_type": "code",
   "execution_count": 139,
   "metadata": {},
   "outputs": [
    {
     "name": "stderr",
     "output_type": "stream",
     "text": [
      "C:\\Users\\Jhon\\AppData\\Local\\Temp\\ipykernel_6828\\2980509266.py:21: UserWarning: Parsing dates in %d.%m.%Y format when dayfirst=False (the default) was specified. Pass `dayfirst=True` or specify a format to silence this warning.\n",
      "  return pd.to_datetime(var)\n"
     ]
    }
   ],
   "source": [
    "# Let's use our function 'to_float' to transform the column 'price'\n",
    "genres['price'] = genres['price'].apply(to_float)\n",
    "\n",
    "# Let's use our function 'datetime_change' to transform the column 'release_date'\n",
    "genres['release_date'] = genres['release_date'].apply(datetime_change)"
   ]
  },
  {
   "cell_type": "code",
   "execution_count": 140,
   "metadata": {},
   "outputs": [
    {
     "name": "stdout",
     "output_type": "stream",
     "text": [
      "<class 'pandas.core.frame.DataFrame'>\n",
      "RangeIndex: 32133 entries, 0 to 32132\n",
      "Data columns (total 9 columns):\n",
      " #   Column        Non-Null Count  Dtype         \n",
      "---  ------        --------------  -----         \n",
      " 0   publisher     32133 non-null  object        \n",
      " 1   genres        32133 non-null  object        \n",
      " 2   app_name      32133 non-null  object        \n",
      " 3   title         32133 non-null  object        \n",
      " 4   release_date  29892 non-null  datetime64[ns]\n",
      " 5   tags          32133 non-null  object        \n",
      " 6   price         32133 non-null  float64       \n",
      " 7   early_access  32133 non-null  object        \n",
      " 8   developer     32133 non-null  object        \n",
      "dtypes: datetime64[ns](1), float64(1), object(7)\n",
      "memory usage: 2.2+ MB\n"
     ]
    }
   ],
   "source": [
    "# Here we see the change in Dtype of 'price' and 'release_date'\n",
    "genres.info()"
   ]
  },
  {
   "cell_type": "code",
   "execution_count": 141,
   "metadata": {},
   "outputs": [],
   "source": [
    "# Now we create a new column named 'release_year' to extract only the year\n",
    "genres['release_year'] = genres['release_date'].dt.year"
   ]
  },
  {
   "cell_type": "code",
   "execution_count": 142,
   "metadata": {},
   "outputs": [
    {
     "data": {
      "text/plain": [
       "0           NaN\n",
       "1        2018.0\n",
       "2        2018.0\n",
       "3        2017.0\n",
       "4        2017.0\n",
       "          ...  \n",
       "32128    2018.0\n",
       "32129    2018.0\n",
       "32130    2018.0\n",
       "32131    2017.0\n",
       "32132       NaN\n",
       "Name: release_year, Length: 32133, dtype: float64"
      ]
     },
     "execution_count": 142,
     "metadata": {},
     "output_type": "execute_result"
    }
   ],
   "source": [
    "# Now let's see the result\n",
    "genres['release_year']"
   ]
  },
  {
   "cell_type": "code",
   "execution_count": 143,
   "metadata": {},
   "outputs": [
    {
     "name": "stdout",
     "output_type": "stream",
     "text": [
      "<class 'pandas.core.frame.DataFrame'>\n",
      "RangeIndex: 32133 entries, 0 to 32132\n",
      "Data columns (total 10 columns):\n",
      " #   Column        Non-Null Count  Dtype         \n",
      "---  ------        --------------  -----         \n",
      " 0   publisher     32133 non-null  object        \n",
      " 1   genres        32133 non-null  object        \n",
      " 2   app_name      32133 non-null  object        \n",
      " 3   title         32133 non-null  object        \n",
      " 4   release_date  29892 non-null  datetime64[ns]\n",
      " 5   tags          32133 non-null  object        \n",
      " 6   price         32133 non-null  float64       \n",
      " 7   early_access  32133 non-null  object        \n",
      " 8   developer     32133 non-null  object        \n",
      " 9   release_year  29892 non-null  float64       \n",
      "dtypes: datetime64[ns](1), float64(2), object(7)\n",
      "memory usage: 2.5+ MB\n",
      "None \n",
      " \n",
      "\n",
      "(32133, 10) \n",
      "\n",
      "Index(['publisher', 'genres', 'app_name', 'title', 'release_date', 'tags',\n",
      "       'price', 'early_access', 'developer', 'release_year'],\n",
      "      dtype='object')\n"
     ]
    }
   ],
   "source": [
    "# Now we check that everything is ok\n",
    "print(genres.info(), '\\n', '\\n')\n",
    "print(genres.shape, '\\n')\n",
    "print(genres.columns)"
   ]
  },
  {
   "cell_type": "code",
   "execution_count": 144,
   "metadata": {},
   "outputs": [
    {
     "data": {
      "text/plain": [
       "0           NaN\n",
       "1        2018.0\n",
       "2        2018.0\n",
       "3        2017.0\n",
       "4        2017.0\n",
       "          ...  \n",
       "32128    2018.0\n",
       "32129    2018.0\n",
       "32130    2018.0\n",
       "32131    2017.0\n",
       "32132       NaN\n",
       "Name: release_year, Length: 32133, dtype: float64"
      ]
     },
     "execution_count": 144,
     "metadata": {},
     "output_type": "execute_result"
    }
   ],
   "source": [
    "genres['release_year']"
   ]
  },
  {
   "cell_type": "code",
   "execution_count": 145,
   "metadata": {},
   "outputs": [
    {
     "data": {
      "text/plain": [
       "release_date    6.974139\n",
       "release_year    6.974139\n",
       "publisher       0.000000\n",
       "genres          0.000000\n",
       "app_name        0.000000\n",
       "title           0.000000\n",
       "tags            0.000000\n",
       "price           0.000000\n",
       "early_access    0.000000\n",
       "developer       0.000000\n",
       "dtype: float64"
      ]
     },
     "execution_count": 145,
     "metadata": {},
     "output_type": "execute_result"
    }
   ],
   "source": [
    "# We see the null ratio again\n",
    "nulls = null_ratio(genres)\n",
    "nulls"
   ]
  },
  {
   "cell_type": "code",
   "execution_count": 146,
   "metadata": {},
   "outputs": [
    {
     "data": {
      "text/plain": [
       "publisher       0.0\n",
       "genres          0.0\n",
       "app_name        0.0\n",
       "title           0.0\n",
       "release_date    0.0\n",
       "tags            0.0\n",
       "price           0.0\n",
       "early_access    0.0\n",
       "developer       0.0\n",
       "release_year    0.0\n",
       "dtype: float64"
      ]
     },
     "execution_count": 146,
     "metadata": {},
     "output_type": "execute_result"
    }
   ],
   "source": [
    "# We fill null data with 'No data'\n",
    "genres.fillna(\"No data\", inplace=True)\n",
    "nulls = null_ratio(genres)\n",
    "nulls"
   ]
  },
  {
   "cell_type": "code",
   "execution_count": 147,
   "metadata": {},
   "outputs": [],
   "source": [
    "# Last but not least let's save our dataframe to a csv file\n",
    "\n",
    "Genres = genres.to_csv('Games.csv', index=False)"
   ]
  },
  {
   "cell_type": "markdown",
   "metadata": {},
   "source": [
    "## Second Step: Let's clean 'user_reviews.json.gz'"
   ]
  },
  {
   "cell_type": "code",
   "execution_count": 148,
   "metadata": {},
   "outputs": [],
   "source": [
    "# Defining the path\n",
    "path2 = 'Datasets/user_reviews.json.gz'\n",
    "\n",
    "# Reading dataset\n",
    "reviews = read_path(path2)\n",
    "\n",
    "\n",
    "# Transforming dataset to dataframe ↓:\n",
    "df_reviews = pd.DataFrame(reviews)"
   ]
  },
  {
   "cell_type": "code",
   "execution_count": 149,
   "metadata": {},
   "outputs": [
    {
     "name": "stdout",
     "output_type": "stream",
     "text": [
      "(25799, 3)\n",
      "Index(['user_id', 'user_url', 'reviews'], dtype='object')\n"
     ]
    }
   ],
   "source": [
    "# For first, we see its shape and columns\n",
    "print(df_reviews.shape)\n",
    "print(df_reviews.columns)"
   ]
  },
  {
   "cell_type": "code",
   "execution_count": 150,
   "metadata": {},
   "outputs": [
    {
     "data": {
      "text/html": [
       "<div>\n",
       "<style scoped>\n",
       "    .dataframe tbody tr th:only-of-type {\n",
       "        vertical-align: middle;\n",
       "    }\n",
       "\n",
       "    .dataframe tbody tr th {\n",
       "        vertical-align: top;\n",
       "    }\n",
       "\n",
       "    .dataframe thead th {\n",
       "        text-align: right;\n",
       "    }\n",
       "</style>\n",
       "<table border=\"1\" class=\"dataframe\">\n",
       "  <thead>\n",
       "    <tr style=\"text-align: right;\">\n",
       "      <th></th>\n",
       "      <th>user_id</th>\n",
       "      <th>user_url</th>\n",
       "      <th>reviews</th>\n",
       "    </tr>\n",
       "  </thead>\n",
       "  <tbody>\n",
       "    <tr>\n",
       "      <th>0</th>\n",
       "      <td>76561197970982479</td>\n",
       "      <td>http://steamcommunity.com/profiles/76561197970...</td>\n",
       "      <td>[{'funny': '', 'posted': 'Posted November 5, 2...</td>\n",
       "    </tr>\n",
       "    <tr>\n",
       "      <th>1</th>\n",
       "      <td>js41637</td>\n",
       "      <td>http://steamcommunity.com/id/js41637</td>\n",
       "      <td>[{'funny': '', 'posted': 'Posted June 24, 2014...</td>\n",
       "    </tr>\n",
       "    <tr>\n",
       "      <th>2</th>\n",
       "      <td>evcentric</td>\n",
       "      <td>http://steamcommunity.com/id/evcentric</td>\n",
       "      <td>[{'funny': '', 'posted': 'Posted February 3.',...</td>\n",
       "    </tr>\n",
       "    <tr>\n",
       "      <th>3</th>\n",
       "      <td>doctr</td>\n",
       "      <td>http://steamcommunity.com/id/doctr</td>\n",
       "      <td>[{'funny': '', 'posted': 'Posted October 14, 2...</td>\n",
       "    </tr>\n",
       "    <tr>\n",
       "      <th>4</th>\n",
       "      <td>maplemage</td>\n",
       "      <td>http://steamcommunity.com/id/maplemage</td>\n",
       "      <td>[{'funny': '3 people found this review funny',...</td>\n",
       "    </tr>\n",
       "    <tr>\n",
       "      <th>...</th>\n",
       "      <td>...</td>\n",
       "      <td>...</td>\n",
       "      <td>...</td>\n",
       "    </tr>\n",
       "    <tr>\n",
       "      <th>25794</th>\n",
       "      <td>76561198306599751</td>\n",
       "      <td>http://steamcommunity.com/profiles/76561198306...</td>\n",
       "      <td>[{'funny': '', 'posted': 'Posted May 31.', 'la...</td>\n",
       "    </tr>\n",
       "    <tr>\n",
       "      <th>25795</th>\n",
       "      <td>Ghoustik</td>\n",
       "      <td>http://steamcommunity.com/id/Ghoustik</td>\n",
       "      <td>[{'funny': '', 'posted': 'Posted June 17.', 'l...</td>\n",
       "    </tr>\n",
       "    <tr>\n",
       "      <th>25796</th>\n",
       "      <td>76561198310819422</td>\n",
       "      <td>http://steamcommunity.com/profiles/76561198310...</td>\n",
       "      <td>[{'funny': '1 person found this review funny',...</td>\n",
       "    </tr>\n",
       "    <tr>\n",
       "      <th>25797</th>\n",
       "      <td>76561198312638244</td>\n",
       "      <td>http://steamcommunity.com/profiles/76561198312...</td>\n",
       "      <td>[{'funny': '', 'posted': 'Posted July 21.', 'l...</td>\n",
       "    </tr>\n",
       "    <tr>\n",
       "      <th>25798</th>\n",
       "      <td>LydiaMorley</td>\n",
       "      <td>http://steamcommunity.com/id/LydiaMorley</td>\n",
       "      <td>[{'funny': '1 person found this review funny',...</td>\n",
       "    </tr>\n",
       "  </tbody>\n",
       "</table>\n",
       "<p>25799 rows × 3 columns</p>\n",
       "</div>"
      ],
      "text/plain": [
       "                 user_id                                           user_url  \\\n",
       "0      76561197970982479  http://steamcommunity.com/profiles/76561197970...   \n",
       "1                js41637               http://steamcommunity.com/id/js41637   \n",
       "2              evcentric             http://steamcommunity.com/id/evcentric   \n",
       "3                  doctr                 http://steamcommunity.com/id/doctr   \n",
       "4              maplemage             http://steamcommunity.com/id/maplemage   \n",
       "...                  ...                                                ...   \n",
       "25794  76561198306599751  http://steamcommunity.com/profiles/76561198306...   \n",
       "25795           Ghoustik              http://steamcommunity.com/id/Ghoustik   \n",
       "25796  76561198310819422  http://steamcommunity.com/profiles/76561198310...   \n",
       "25797  76561198312638244  http://steamcommunity.com/profiles/76561198312...   \n",
       "25798        LydiaMorley           http://steamcommunity.com/id/LydiaMorley   \n",
       "\n",
       "                                                 reviews  \n",
       "0      [{'funny': '', 'posted': 'Posted November 5, 2...  \n",
       "1      [{'funny': '', 'posted': 'Posted June 24, 2014...  \n",
       "2      [{'funny': '', 'posted': 'Posted February 3.',...  \n",
       "3      [{'funny': '', 'posted': 'Posted October 14, 2...  \n",
       "4      [{'funny': '3 people found this review funny',...  \n",
       "...                                                  ...  \n",
       "25794  [{'funny': '', 'posted': 'Posted May 31.', 'la...  \n",
       "25795  [{'funny': '', 'posted': 'Posted June 17.', 'l...  \n",
       "25796  [{'funny': '1 person found this review funny',...  \n",
       "25797  [{'funny': '', 'posted': 'Posted July 21.', 'l...  \n",
       "25798  [{'funny': '1 person found this review funny',...  \n",
       "\n",
       "[25799 rows x 3 columns]"
      ]
     },
     "execution_count": 150,
     "metadata": {},
     "output_type": "execute_result"
    }
   ],
   "source": [
    "# Now, we see the dataframe\n",
    "df_reviews\n",
    "\n",
    "# We can detect in our dataframe, in 'reviews' column, it has nested values"
   ]
  },
  {
   "cell_type": "code",
   "execution_count": 151,
   "metadata": {},
   "outputs": [],
   "source": [
    "# We're going to unnest nested values, in this case 'reviews'\n",
    "df_reviews = unnesting(df_reviews, \"reviews\")"
   ]
  },
  {
   "cell_type": "code",
   "execution_count": 152,
   "metadata": {},
   "outputs": [
    {
     "data": {
      "text/html": [
       "<div>\n",
       "<style scoped>\n",
       "    .dataframe tbody tr th:only-of-type {\n",
       "        vertical-align: middle;\n",
       "    }\n",
       "\n",
       "    .dataframe tbody tr th {\n",
       "        vertical-align: top;\n",
       "    }\n",
       "\n",
       "    .dataframe thead th {\n",
       "        text-align: right;\n",
       "    }\n",
       "</style>\n",
       "<table border=\"1\" class=\"dataframe\">\n",
       "  <thead>\n",
       "    <tr style=\"text-align: right;\">\n",
       "      <th></th>\n",
       "      <th>index</th>\n",
       "      <th>user_id</th>\n",
       "      <th>user_url</th>\n",
       "      <th>reviews</th>\n",
       "      <th>index</th>\n",
       "      <th>funny</th>\n",
       "      <th>posted</th>\n",
       "      <th>last_edited</th>\n",
       "      <th>item_id</th>\n",
       "      <th>helpful</th>\n",
       "      <th>recommend</th>\n",
       "      <th>review</th>\n",
       "    </tr>\n",
       "  </thead>\n",
       "  <tbody>\n",
       "    <tr>\n",
       "      <th>0</th>\n",
       "      <td>0</td>\n",
       "      <td>76561197970982479</td>\n",
       "      <td>http://steamcommunity.com/profiles/76561197970...</td>\n",
       "      <td>{'funny': '', 'posted': 'Posted November 5, 20...</td>\n",
       "      <td>0.0</td>\n",
       "      <td></td>\n",
       "      <td>Posted November 5, 2011.</td>\n",
       "      <td></td>\n",
       "      <td>1250</td>\n",
       "      <td>No ratings yet</td>\n",
       "      <td>True</td>\n",
       "      <td>Simple yet with great replayability. In my opi...</td>\n",
       "    </tr>\n",
       "    <tr>\n",
       "      <th>1</th>\n",
       "      <td>0</td>\n",
       "      <td>76561197970982479</td>\n",
       "      <td>http://steamcommunity.com/profiles/76561197970...</td>\n",
       "      <td>{'funny': '', 'posted': 'Posted July 15, 2011....</td>\n",
       "      <td>1.0</td>\n",
       "      <td></td>\n",
       "      <td>Posted July 15, 2011.</td>\n",
       "      <td></td>\n",
       "      <td>22200</td>\n",
       "      <td>No ratings yet</td>\n",
       "      <td>True</td>\n",
       "      <td>It's unique and worth a playthrough.</td>\n",
       "    </tr>\n",
       "    <tr>\n",
       "      <th>2</th>\n",
       "      <td>0</td>\n",
       "      <td>76561197970982479</td>\n",
       "      <td>http://steamcommunity.com/profiles/76561197970...</td>\n",
       "      <td>{'funny': '', 'posted': 'Posted April 21, 2011...</td>\n",
       "      <td>2.0</td>\n",
       "      <td></td>\n",
       "      <td>Posted April 21, 2011.</td>\n",
       "      <td></td>\n",
       "      <td>43110</td>\n",
       "      <td>No ratings yet</td>\n",
       "      <td>True</td>\n",
       "      <td>Great atmosphere. The gunplay can be a bit chu...</td>\n",
       "    </tr>\n",
       "    <tr>\n",
       "      <th>3</th>\n",
       "      <td>1</td>\n",
       "      <td>js41637</td>\n",
       "      <td>http://steamcommunity.com/id/js41637</td>\n",
       "      <td>{'funny': '', 'posted': 'Posted June 24, 2014....</td>\n",
       "      <td>3.0</td>\n",
       "      <td></td>\n",
       "      <td>Posted June 24, 2014.</td>\n",
       "      <td></td>\n",
       "      <td>251610</td>\n",
       "      <td>15 of 20 people (75%) found this review helpful</td>\n",
       "      <td>True</td>\n",
       "      <td>I know what you think when you see this title ...</td>\n",
       "    </tr>\n",
       "    <tr>\n",
       "      <th>4</th>\n",
       "      <td>1</td>\n",
       "      <td>js41637</td>\n",
       "      <td>http://steamcommunity.com/id/js41637</td>\n",
       "      <td>{'funny': '', 'posted': 'Posted September 8, 2...</td>\n",
       "      <td>4.0</td>\n",
       "      <td></td>\n",
       "      <td>Posted September 8, 2013.</td>\n",
       "      <td></td>\n",
       "      <td>227300</td>\n",
       "      <td>0 of 1 people (0%) found this review helpful</td>\n",
       "      <td>True</td>\n",
       "      <td>For a simple (it's actually not all that simpl...</td>\n",
       "    </tr>\n",
       "    <tr>\n",
       "      <th>...</th>\n",
       "      <td>...</td>\n",
       "      <td>...</td>\n",
       "      <td>...</td>\n",
       "      <td>...</td>\n",
       "      <td>...</td>\n",
       "      <td>...</td>\n",
       "      <td>...</td>\n",
       "      <td>...</td>\n",
       "      <td>...</td>\n",
       "      <td>...</td>\n",
       "      <td>...</td>\n",
       "      <td>...</td>\n",
       "    </tr>\n",
       "    <tr>\n",
       "      <th>59300</th>\n",
       "      <td>25776</td>\n",
       "      <td>Fuckfhaisjnsnsjakaka</td>\n",
       "      <td>http://steamcommunity.com/id/Fuckfhaisjnsnsjakaka</td>\n",
       "      <td>{'funny': '', 'posted': 'Posted January 17.', ...</td>\n",
       "      <td>59300.0</td>\n",
       "      <td></td>\n",
       "      <td>Posted July 10.</td>\n",
       "      <td></td>\n",
       "      <td>70</td>\n",
       "      <td>No ratings yet</td>\n",
       "      <td>True</td>\n",
       "      <td>a must have classic from steam definitely wort...</td>\n",
       "    </tr>\n",
       "    <tr>\n",
       "      <th>59301</th>\n",
       "      <td>25777</td>\n",
       "      <td>3214213216</td>\n",
       "      <td>http://steamcommunity.com/id/3214213216</td>\n",
       "      <td>{'funny': '', 'posted': 'Posted February 7.', ...</td>\n",
       "      <td>59301.0</td>\n",
       "      <td></td>\n",
       "      <td>Posted July 8.</td>\n",
       "      <td></td>\n",
       "      <td>362890</td>\n",
       "      <td>No ratings yet</td>\n",
       "      <td>True</td>\n",
       "      <td>this game is a perfect remake of the original ...</td>\n",
       "    </tr>\n",
       "    <tr>\n",
       "      <th>59302</th>\n",
       "      <td>25778</td>\n",
       "      <td>ChrisCoroner</td>\n",
       "      <td>http://steamcommunity.com/id/ChrisCoroner</td>\n",
       "      <td>{'funny': '', 'posted': 'Posted May 5.', 'last...</td>\n",
       "      <td>59302.0</td>\n",
       "      <td>1 person found this review funny</td>\n",
       "      <td>Posted July 3.</td>\n",
       "      <td></td>\n",
       "      <td>273110</td>\n",
       "      <td>1 of 2 people (50%) found this review helpful</td>\n",
       "      <td>True</td>\n",
       "      <td>had so much fun plaing this and collecting res...</td>\n",
       "    </tr>\n",
       "    <tr>\n",
       "      <th>59303</th>\n",
       "      <td>25779</td>\n",
       "      <td>CaptainAmericaCw</td>\n",
       "      <td>http://steamcommunity.com/id/CaptainAmericaCw</td>\n",
       "      <td>{'funny': '1 person found this review funny', ...</td>\n",
       "      <td>59303.0</td>\n",
       "      <td></td>\n",
       "      <td>Posted July 20.</td>\n",
       "      <td></td>\n",
       "      <td>730</td>\n",
       "      <td>No ratings yet</td>\n",
       "      <td>True</td>\n",
       "      <td>:D</td>\n",
       "    </tr>\n",
       "    <tr>\n",
       "      <th>59304</th>\n",
       "      <td>25780</td>\n",
       "      <td>76561198267374962</td>\n",
       "      <td>http://steamcommunity.com/profiles/76561198267...</td>\n",
       "      <td>{'funny': '1 person found this review funny', ...</td>\n",
       "      <td>59304.0</td>\n",
       "      <td></td>\n",
       "      <td>Posted July 2.</td>\n",
       "      <td></td>\n",
       "      <td>440</td>\n",
       "      <td>No ratings yet</td>\n",
       "      <td>True</td>\n",
       "      <td>so much fun :D</td>\n",
       "    </tr>\n",
       "  </tbody>\n",
       "</table>\n",
       "<p>59277 rows × 12 columns</p>\n",
       "</div>"
      ],
      "text/plain": [
       "       index               user_id  \\\n",
       "0          0     76561197970982479   \n",
       "1          0     76561197970982479   \n",
       "2          0     76561197970982479   \n",
       "3          1               js41637   \n",
       "4          1               js41637   \n",
       "...      ...                   ...   \n",
       "59300  25776  Fuckfhaisjnsnsjakaka   \n",
       "59301  25777            3214213216   \n",
       "59302  25778          ChrisCoroner   \n",
       "59303  25779      CaptainAmericaCw   \n",
       "59304  25780     76561198267374962   \n",
       "\n",
       "                                                user_url  \\\n",
       "0      http://steamcommunity.com/profiles/76561197970...   \n",
       "1      http://steamcommunity.com/profiles/76561197970...   \n",
       "2      http://steamcommunity.com/profiles/76561197970...   \n",
       "3                   http://steamcommunity.com/id/js41637   \n",
       "4                   http://steamcommunity.com/id/js41637   \n",
       "...                                                  ...   \n",
       "59300  http://steamcommunity.com/id/Fuckfhaisjnsnsjakaka   \n",
       "59301            http://steamcommunity.com/id/3214213216   \n",
       "59302          http://steamcommunity.com/id/ChrisCoroner   \n",
       "59303      http://steamcommunity.com/id/CaptainAmericaCw   \n",
       "59304  http://steamcommunity.com/profiles/76561198267...   \n",
       "\n",
       "                                                 reviews    index  \\\n",
       "0      {'funny': '', 'posted': 'Posted November 5, 20...      0.0   \n",
       "1      {'funny': '', 'posted': 'Posted July 15, 2011....      1.0   \n",
       "2      {'funny': '', 'posted': 'Posted April 21, 2011...      2.0   \n",
       "3      {'funny': '', 'posted': 'Posted June 24, 2014....      3.0   \n",
       "4      {'funny': '', 'posted': 'Posted September 8, 2...      4.0   \n",
       "...                                                  ...      ...   \n",
       "59300  {'funny': '', 'posted': 'Posted January 17.', ...  59300.0   \n",
       "59301  {'funny': '', 'posted': 'Posted February 7.', ...  59301.0   \n",
       "59302  {'funny': '', 'posted': 'Posted May 5.', 'last...  59302.0   \n",
       "59303  {'funny': '1 person found this review funny', ...  59303.0   \n",
       "59304  {'funny': '1 person found this review funny', ...  59304.0   \n",
       "\n",
       "                                  funny                     posted  \\\n",
       "0                                         Posted November 5, 2011.   \n",
       "1                                            Posted July 15, 2011.   \n",
       "2                                           Posted April 21, 2011.   \n",
       "3                                            Posted June 24, 2014.   \n",
       "4                                        Posted September 8, 2013.   \n",
       "...                                 ...                        ...   \n",
       "59300                                              Posted July 10.   \n",
       "59301                                               Posted July 8.   \n",
       "59302  1 person found this review funny             Posted July 3.   \n",
       "59303                                              Posted July 20.   \n",
       "59304                                               Posted July 2.   \n",
       "\n",
       "      last_edited item_id                                          helpful  \\\n",
       "0                    1250                                   No ratings yet   \n",
       "1                   22200                                   No ratings yet   \n",
       "2                   43110                                   No ratings yet   \n",
       "3                  251610  15 of 20 people (75%) found this review helpful   \n",
       "4                  227300     0 of 1 people (0%) found this review helpful   \n",
       "...           ...     ...                                              ...   \n",
       "59300                  70                                   No ratings yet   \n",
       "59301              362890                                   No ratings yet   \n",
       "59302              273110    1 of 2 people (50%) found this review helpful   \n",
       "59303                 730                                   No ratings yet   \n",
       "59304                 440                                   No ratings yet   \n",
       "\n",
       "      recommend                                             review  \n",
       "0          True  Simple yet with great replayability. In my opi...  \n",
       "1          True               It's unique and worth a playthrough.  \n",
       "2          True  Great atmosphere. The gunplay can be a bit chu...  \n",
       "3          True  I know what you think when you see this title ...  \n",
       "4          True  For a simple (it's actually not all that simpl...  \n",
       "...         ...                                                ...  \n",
       "59300      True  a must have classic from steam definitely wort...  \n",
       "59301      True  this game is a perfect remake of the original ...  \n",
       "59302      True  had so much fun plaing this and collecting res...  \n",
       "59303      True                                                 :D  \n",
       "59304      True                                     so much fun :D  \n",
       "\n",
       "[59277 rows x 12 columns]"
      ]
     },
     "execution_count": 152,
     "metadata": {},
     "output_type": "execute_result"
    }
   ],
   "source": [
    "df_reviews"
   ]
  },
  {
   "cell_type": "code",
   "execution_count": 154,
   "metadata": {},
   "outputs": [
    {
     "name": "stdout",
     "output_type": "stream",
     "text": [
      "(59277, 12)\n",
      "Index(['index', 'user_id', 'user_url', 'reviews', 'index', 'funny', 'posted',\n",
      "       'last_edited', 'item_id', 'helpful', 'recommend', 'review'],\n",
      "      dtype='object')\n"
     ]
    }
   ],
   "source": [
    "# Let's see its shape and columns \n",
    "print(df_reviews.shape)\n",
    "print(df_reviews.columns)\n",
    "\n",
    "# Now we realize that we have more rows and columns"
   ]
  },
  {
   "cell_type": "code",
   "execution_count": 155,
   "metadata": {},
   "outputs": [
    {
     "data": {
      "text/plain": [
       "index          0.0\n",
       "user_id        0.0\n",
       "user_url       0.0\n",
       "reviews        0.0\n",
       "index          0.0\n",
       "funny          0.0\n",
       "posted         0.0\n",
       "last_edited    0.0\n",
       "item_id        0.0\n",
       "helpful        0.0\n",
       "recommend      0.0\n",
       "review         0.0\n",
       "dtype: float64"
      ]
     },
     "execution_count": 155,
     "metadata": {},
     "output_type": "execute_result"
    }
   ],
   "source": [
    "# We see if we have nulls\n",
    "nulls = null_ratio(df_reviews)\n",
    "nulls"
   ]
  },
  {
   "cell_type": "code",
   "execution_count": 156,
   "metadata": {},
   "outputs": [
    {
     "data": {
      "text/plain": [
       "0         Posted November 5, 2011.\n",
       "1            Posted July 15, 2011.\n",
       "2           Posted April 21, 2011.\n",
       "3            Posted June 24, 2014.\n",
       "4        Posted September 8, 2013.\n",
       "                   ...            \n",
       "59300              Posted July 10.\n",
       "59301               Posted July 8.\n",
       "59302               Posted July 3.\n",
       "59303              Posted July 20.\n",
       "59304               Posted July 2.\n",
       "Name: posted, Length: 59277, dtype: object"
      ]
     },
     "execution_count": 156,
     "metadata": {},
     "output_type": "execute_result"
    }
   ],
   "source": [
    "# Let's see the date\n",
    "df_reviews['posted']"
   ]
  },
  {
   "cell_type": "markdown",
   "metadata": {},
   "source": [
    "### We are going to transform the date"
   ]
  },
  {
   "cell_type": "code",
   "execution_count": 157,
   "metadata": {},
   "outputs": [],
   "source": [
    "# This piece of code deletes the word 'Posted' and extracts the month, day and year\n",
    "df_reviews[\"posted\"] = df_reviews[\"posted\"].str.extract(r\"Posted ([\\w\\s\\d,]+)\") "
   ]
  },
  {
   "cell_type": "code",
   "execution_count": 158,
   "metadata": {},
   "outputs": [
    {
     "data": {
      "text/plain": [
       "0         November 5, 2011\n",
       "1            July 15, 2011\n",
       "2           April 21, 2011\n",
       "3            June 24, 2014\n",
       "4        September 8, 2013\n",
       "               ...        \n",
       "59300              July 10\n",
       "59301               July 8\n",
       "59302               July 3\n",
       "59303              July 20\n",
       "59304               July 2\n",
       "Name: posted, Length: 59277, dtype: object"
      ]
     },
     "execution_count": 158,
     "metadata": {},
     "output_type": "execute_result"
    }
   ],
   "source": [
    "df_reviews['posted']"
   ]
  },
  {
   "cell_type": "code",
   "execution_count": 159,
   "metadata": {},
   "outputs": [],
   "source": [
    "# This line of code rearrange the date and converts name's month to number, all of this using our function 'datetime_change'\n",
    "df_reviews[\"posted_date\"] = df_reviews[\"posted\"].apply(datetime_change) "
   ]
  },
  {
   "cell_type": "code",
   "execution_count": 160,
   "metadata": {},
   "outputs": [
    {
     "data": {
      "text/plain": [
       "0       2011-11-05\n",
       "1       2011-07-15\n",
       "2       2011-04-21\n",
       "3       2014-06-24\n",
       "4       2013-09-08\n",
       "           ...    \n",
       "59300          NaT\n",
       "59301          NaT\n",
       "59302          NaT\n",
       "59303          NaT\n",
       "59304          NaT\n",
       "Name: posted_date, Length: 59277, dtype: datetime64[ns]"
      ]
     },
     "execution_count": 160,
     "metadata": {},
     "output_type": "execute_result"
    }
   ],
   "source": [
    "# We see the result\n",
    "df_reviews['posted_date']"
   ]
  },
  {
   "cell_type": "code",
   "execution_count": 161,
   "metadata": {},
   "outputs": [],
   "source": [
    "# Now we create a new column and we extract the year\n",
    "df_reviews['posted_year'] = df_reviews[\"posted_date\"].dt.year"
   ]
  },
  {
   "cell_type": "code",
   "execution_count": 162,
   "metadata": {},
   "outputs": [
    {
     "data": {
      "text/plain": [
       "0        2011.0\n",
       "1        2011.0\n",
       "2        2011.0\n",
       "3        2014.0\n",
       "4        2013.0\n",
       "          ...  \n",
       "59300       NaN\n",
       "59301       NaN\n",
       "59302       NaN\n",
       "59303       NaN\n",
       "59304       NaN\n",
       "Name: posted_year, Length: 59277, dtype: float64"
      ]
     },
     "execution_count": 162,
     "metadata": {},
     "output_type": "execute_result"
    }
   ],
   "source": [
    "# Here is the result\n",
    "df_reviews['posted_year']"
   ]
  },
  {
   "cell_type": "code",
   "execution_count": 163,
   "metadata": {},
   "outputs": [
    {
     "data": {
      "text/plain": [
       "posted_date    17.063954\n",
       "posted_year    17.063954\n",
       "index           0.000000\n",
       "user_id         0.000000\n",
       "user_url        0.000000\n",
       "reviews         0.000000\n",
       "index           0.000000\n",
       "funny           0.000000\n",
       "posted          0.000000\n",
       "last_edited     0.000000\n",
       "item_id         0.000000\n",
       "helpful         0.000000\n",
       "recommend       0.000000\n",
       "review          0.000000\n",
       "dtype: float64"
      ]
     },
     "execution_count": 163,
     "metadata": {},
     "output_type": "execute_result"
    }
   ],
   "source": [
    "# Let's see the null ratio again\n",
    "nulls = null_ratio(df_reviews)\n",
    "nulls"
   ]
  },
  {
   "cell_type": "code",
   "execution_count": 164,
   "metadata": {},
   "outputs": [],
   "source": [
    "# Let's fill null values with 'No data'\n",
    "df_reviews.fillna(\"No data\", inplace=True)"
   ]
  },
  {
   "cell_type": "code",
   "execution_count": 170,
   "metadata": {},
   "outputs": [
    {
     "name": "stdout",
     "output_type": "stream",
     "text": [
      "Index(['index', 'user_id', 'user_url', 'reviews', 'index', 'funny', 'posted',\n",
      "       'last_edited', 'item_id', 'helpful', 'recommend', 'review',\n",
      "       'posted_date', 'posted_year'],\n",
      "      dtype='object') \n",
      " \n",
      "\n"
     ]
    },
    {
     "data": {
      "text/html": [
       "<div>\n",
       "<style scoped>\n",
       "    .dataframe tbody tr th:only-of-type {\n",
       "        vertical-align: middle;\n",
       "    }\n",
       "\n",
       "    .dataframe tbody tr th {\n",
       "        vertical-align: top;\n",
       "    }\n",
       "\n",
       "    .dataframe thead th {\n",
       "        text-align: right;\n",
       "    }\n",
       "</style>\n",
       "<table border=\"1\" class=\"dataframe\">\n",
       "  <thead>\n",
       "    <tr style=\"text-align: right;\">\n",
       "      <th></th>\n",
       "      <th>index</th>\n",
       "      <th>user_id</th>\n",
       "      <th>user_url</th>\n",
       "      <th>reviews</th>\n",
       "      <th>index</th>\n",
       "      <th>funny</th>\n",
       "      <th>posted</th>\n",
       "      <th>last_edited</th>\n",
       "      <th>item_id</th>\n",
       "      <th>helpful</th>\n",
       "      <th>recommend</th>\n",
       "      <th>review</th>\n",
       "      <th>posted_date</th>\n",
       "      <th>posted_year</th>\n",
       "    </tr>\n",
       "  </thead>\n",
       "  <tbody>\n",
       "    <tr>\n",
       "      <th>0</th>\n",
       "      <td>0</td>\n",
       "      <td>76561197970982479</td>\n",
       "      <td>http://steamcommunity.com/profiles/76561197970...</td>\n",
       "      <td>{'funny': '', 'posted': 'Posted November 5, 20...</td>\n",
       "      <td>0.0</td>\n",
       "      <td></td>\n",
       "      <td>November 5, 2011</td>\n",
       "      <td></td>\n",
       "      <td>1250</td>\n",
       "      <td>No ratings yet</td>\n",
       "      <td>True</td>\n",
       "      <td>Simple yet with great replayability. In my opi...</td>\n",
       "      <td>2011-11-05 00:00:00</td>\n",
       "      <td>2011.0</td>\n",
       "    </tr>\n",
       "    <tr>\n",
       "      <th>1</th>\n",
       "      <td>0</td>\n",
       "      <td>76561197970982479</td>\n",
       "      <td>http://steamcommunity.com/profiles/76561197970...</td>\n",
       "      <td>{'funny': '', 'posted': 'Posted July 15, 2011....</td>\n",
       "      <td>1.0</td>\n",
       "      <td></td>\n",
       "      <td>July 15, 2011</td>\n",
       "      <td></td>\n",
       "      <td>22200</td>\n",
       "      <td>No ratings yet</td>\n",
       "      <td>True</td>\n",
       "      <td>It's unique and worth a playthrough.</td>\n",
       "      <td>2011-07-15 00:00:00</td>\n",
       "      <td>2011.0</td>\n",
       "    </tr>\n",
       "    <tr>\n",
       "      <th>2</th>\n",
       "      <td>0</td>\n",
       "      <td>76561197970982479</td>\n",
       "      <td>http://steamcommunity.com/profiles/76561197970...</td>\n",
       "      <td>{'funny': '', 'posted': 'Posted April 21, 2011...</td>\n",
       "      <td>2.0</td>\n",
       "      <td></td>\n",
       "      <td>April 21, 2011</td>\n",
       "      <td></td>\n",
       "      <td>43110</td>\n",
       "      <td>No ratings yet</td>\n",
       "      <td>True</td>\n",
       "      <td>Great atmosphere. The gunplay can be a bit chu...</td>\n",
       "      <td>2011-04-21 00:00:00</td>\n",
       "      <td>2011.0</td>\n",
       "    </tr>\n",
       "    <tr>\n",
       "      <th>3</th>\n",
       "      <td>1</td>\n",
       "      <td>js41637</td>\n",
       "      <td>http://steamcommunity.com/id/js41637</td>\n",
       "      <td>{'funny': '', 'posted': 'Posted June 24, 2014....</td>\n",
       "      <td>3.0</td>\n",
       "      <td></td>\n",
       "      <td>June 24, 2014</td>\n",
       "      <td></td>\n",
       "      <td>251610</td>\n",
       "      <td>15 of 20 people (75%) found this review helpful</td>\n",
       "      <td>True</td>\n",
       "      <td>I know what you think when you see this title ...</td>\n",
       "      <td>2014-06-24 00:00:00</td>\n",
       "      <td>2014.0</td>\n",
       "    </tr>\n",
       "    <tr>\n",
       "      <th>4</th>\n",
       "      <td>1</td>\n",
       "      <td>js41637</td>\n",
       "      <td>http://steamcommunity.com/id/js41637</td>\n",
       "      <td>{'funny': '', 'posted': 'Posted September 8, 2...</td>\n",
       "      <td>4.0</td>\n",
       "      <td></td>\n",
       "      <td>September 8, 2013</td>\n",
       "      <td></td>\n",
       "      <td>227300</td>\n",
       "      <td>0 of 1 people (0%) found this review helpful</td>\n",
       "      <td>True</td>\n",
       "      <td>For a simple (it's actually not all that simpl...</td>\n",
       "      <td>2013-09-08 00:00:00</td>\n",
       "      <td>2013.0</td>\n",
       "    </tr>\n",
       "    <tr>\n",
       "      <th>...</th>\n",
       "      <td>...</td>\n",
       "      <td>...</td>\n",
       "      <td>...</td>\n",
       "      <td>...</td>\n",
       "      <td>...</td>\n",
       "      <td>...</td>\n",
       "      <td>...</td>\n",
       "      <td>...</td>\n",
       "      <td>...</td>\n",
       "      <td>...</td>\n",
       "      <td>...</td>\n",
       "      <td>...</td>\n",
       "      <td>...</td>\n",
       "      <td>...</td>\n",
       "    </tr>\n",
       "    <tr>\n",
       "      <th>59300</th>\n",
       "      <td>25776</td>\n",
       "      <td>Fuckfhaisjnsnsjakaka</td>\n",
       "      <td>http://steamcommunity.com/id/Fuckfhaisjnsnsjakaka</td>\n",
       "      <td>{'funny': '', 'posted': 'Posted January 17.', ...</td>\n",
       "      <td>59300.0</td>\n",
       "      <td></td>\n",
       "      <td>July 10</td>\n",
       "      <td></td>\n",
       "      <td>70</td>\n",
       "      <td>No ratings yet</td>\n",
       "      <td>True</td>\n",
       "      <td>a must have classic from steam definitely wort...</td>\n",
       "      <td>No data</td>\n",
       "      <td>No data</td>\n",
       "    </tr>\n",
       "    <tr>\n",
       "      <th>59301</th>\n",
       "      <td>25777</td>\n",
       "      <td>3214213216</td>\n",
       "      <td>http://steamcommunity.com/id/3214213216</td>\n",
       "      <td>{'funny': '', 'posted': 'Posted February 7.', ...</td>\n",
       "      <td>59301.0</td>\n",
       "      <td></td>\n",
       "      <td>July 8</td>\n",
       "      <td></td>\n",
       "      <td>362890</td>\n",
       "      <td>No ratings yet</td>\n",
       "      <td>True</td>\n",
       "      <td>this game is a perfect remake of the original ...</td>\n",
       "      <td>No data</td>\n",
       "      <td>No data</td>\n",
       "    </tr>\n",
       "    <tr>\n",
       "      <th>59302</th>\n",
       "      <td>25778</td>\n",
       "      <td>ChrisCoroner</td>\n",
       "      <td>http://steamcommunity.com/id/ChrisCoroner</td>\n",
       "      <td>{'funny': '', 'posted': 'Posted May 5.', 'last...</td>\n",
       "      <td>59302.0</td>\n",
       "      <td>1 person found this review funny</td>\n",
       "      <td>July 3</td>\n",
       "      <td></td>\n",
       "      <td>273110</td>\n",
       "      <td>1 of 2 people (50%) found this review helpful</td>\n",
       "      <td>True</td>\n",
       "      <td>had so much fun plaing this and collecting res...</td>\n",
       "      <td>No data</td>\n",
       "      <td>No data</td>\n",
       "    </tr>\n",
       "    <tr>\n",
       "      <th>59303</th>\n",
       "      <td>25779</td>\n",
       "      <td>CaptainAmericaCw</td>\n",
       "      <td>http://steamcommunity.com/id/CaptainAmericaCw</td>\n",
       "      <td>{'funny': '1 person found this review funny', ...</td>\n",
       "      <td>59303.0</td>\n",
       "      <td></td>\n",
       "      <td>July 20</td>\n",
       "      <td></td>\n",
       "      <td>730</td>\n",
       "      <td>No ratings yet</td>\n",
       "      <td>True</td>\n",
       "      <td>:D</td>\n",
       "      <td>No data</td>\n",
       "      <td>No data</td>\n",
       "    </tr>\n",
       "    <tr>\n",
       "      <th>59304</th>\n",
       "      <td>25780</td>\n",
       "      <td>76561198267374962</td>\n",
       "      <td>http://steamcommunity.com/profiles/76561198267...</td>\n",
       "      <td>{'funny': '1 person found this review funny', ...</td>\n",
       "      <td>59304.0</td>\n",
       "      <td></td>\n",
       "      <td>July 2</td>\n",
       "      <td></td>\n",
       "      <td>440</td>\n",
       "      <td>No ratings yet</td>\n",
       "      <td>True</td>\n",
       "      <td>so much fun :D</td>\n",
       "      <td>No data</td>\n",
       "      <td>No data</td>\n",
       "    </tr>\n",
       "  </tbody>\n",
       "</table>\n",
       "<p>59277 rows × 14 columns</p>\n",
       "</div>"
      ],
      "text/plain": [
       "       index               user_id  \\\n",
       "0          0     76561197970982479   \n",
       "1          0     76561197970982479   \n",
       "2          0     76561197970982479   \n",
       "3          1               js41637   \n",
       "4          1               js41637   \n",
       "...      ...                   ...   \n",
       "59300  25776  Fuckfhaisjnsnsjakaka   \n",
       "59301  25777            3214213216   \n",
       "59302  25778          ChrisCoroner   \n",
       "59303  25779      CaptainAmericaCw   \n",
       "59304  25780     76561198267374962   \n",
       "\n",
       "                                                user_url  \\\n",
       "0      http://steamcommunity.com/profiles/76561197970...   \n",
       "1      http://steamcommunity.com/profiles/76561197970...   \n",
       "2      http://steamcommunity.com/profiles/76561197970...   \n",
       "3                   http://steamcommunity.com/id/js41637   \n",
       "4                   http://steamcommunity.com/id/js41637   \n",
       "...                                                  ...   \n",
       "59300  http://steamcommunity.com/id/Fuckfhaisjnsnsjakaka   \n",
       "59301            http://steamcommunity.com/id/3214213216   \n",
       "59302          http://steamcommunity.com/id/ChrisCoroner   \n",
       "59303      http://steamcommunity.com/id/CaptainAmericaCw   \n",
       "59304  http://steamcommunity.com/profiles/76561198267...   \n",
       "\n",
       "                                                 reviews    index  \\\n",
       "0      {'funny': '', 'posted': 'Posted November 5, 20...      0.0   \n",
       "1      {'funny': '', 'posted': 'Posted July 15, 2011....      1.0   \n",
       "2      {'funny': '', 'posted': 'Posted April 21, 2011...      2.0   \n",
       "3      {'funny': '', 'posted': 'Posted June 24, 2014....      3.0   \n",
       "4      {'funny': '', 'posted': 'Posted September 8, 2...      4.0   \n",
       "...                                                  ...      ...   \n",
       "59300  {'funny': '', 'posted': 'Posted January 17.', ...  59300.0   \n",
       "59301  {'funny': '', 'posted': 'Posted February 7.', ...  59301.0   \n",
       "59302  {'funny': '', 'posted': 'Posted May 5.', 'last...  59302.0   \n",
       "59303  {'funny': '1 person found this review funny', ...  59303.0   \n",
       "59304  {'funny': '1 person found this review funny', ...  59304.0   \n",
       "\n",
       "                                  funny             posted last_edited  \\\n",
       "0                                         November 5, 2011               \n",
       "1                                            July 15, 2011               \n",
       "2                                           April 21, 2011               \n",
       "3                                            June 24, 2014               \n",
       "4                                        September 8, 2013               \n",
       "...                                 ...                ...         ...   \n",
       "59300                                              July 10               \n",
       "59301                                               July 8               \n",
       "59302  1 person found this review funny             July 3               \n",
       "59303                                              July 20               \n",
       "59304                                               July 2               \n",
       "\n",
       "      item_id                                          helpful recommend  \\\n",
       "0        1250                                   No ratings yet      True   \n",
       "1       22200                                   No ratings yet      True   \n",
       "2       43110                                   No ratings yet      True   \n",
       "3      251610  15 of 20 people (75%) found this review helpful      True   \n",
       "4      227300     0 of 1 people (0%) found this review helpful      True   \n",
       "...       ...                                              ...       ...   \n",
       "59300      70                                   No ratings yet      True   \n",
       "59301  362890                                   No ratings yet      True   \n",
       "59302  273110    1 of 2 people (50%) found this review helpful      True   \n",
       "59303     730                                   No ratings yet      True   \n",
       "59304     440                                   No ratings yet      True   \n",
       "\n",
       "                                                  review          posted_date  \\\n",
       "0      Simple yet with great replayability. In my opi...  2011-11-05 00:00:00   \n",
       "1                   It's unique and worth a playthrough.  2011-07-15 00:00:00   \n",
       "2      Great atmosphere. The gunplay can be a bit chu...  2011-04-21 00:00:00   \n",
       "3      I know what you think when you see this title ...  2014-06-24 00:00:00   \n",
       "4      For a simple (it's actually not all that simpl...  2013-09-08 00:00:00   \n",
       "...                                                  ...                  ...   \n",
       "59300  a must have classic from steam definitely wort...              No data   \n",
       "59301  this game is a perfect remake of the original ...              No data   \n",
       "59302  had so much fun plaing this and collecting res...              No data   \n",
       "59303                                                 :D              No data   \n",
       "59304                                     so much fun :D              No data   \n",
       "\n",
       "      posted_year  \n",
       "0          2011.0  \n",
       "1          2011.0  \n",
       "2          2011.0  \n",
       "3          2014.0  \n",
       "4          2013.0  \n",
       "...           ...  \n",
       "59300     No data  \n",
       "59301     No data  \n",
       "59302     No data  \n",
       "59303     No data  \n",
       "59304     No data  \n",
       "\n",
       "[59277 rows x 14 columns]"
      ]
     },
     "execution_count": 170,
     "metadata": {},
     "output_type": "execute_result"
    }
   ],
   "source": [
    "# Let's see our name columns and choose what to delete\n",
    "print(df_reviews.columns, '\\n', '\\n')\n",
    "df_reviews"
   ]
  },
  {
   "cell_type": "code",
   "execution_count": null,
   "metadata": {},
   "outputs": [],
   "source": []
  },
  {
   "cell_type": "code",
   "execution_count": 171,
   "metadata": {},
   "outputs": [],
   "source": [
    "# Now we delete useless columns\n",
    "df_reviews.drop([\"reviews\", \"last_edited\",\"index\",\"posted\"], axis=1, inplace=True)"
   ]
  },
  {
   "cell_type": "code",
   "execution_count": 177,
   "metadata": {},
   "outputs": [
    {
     "name": "stdout",
     "output_type": "stream",
     "text": [
      "(59277, 9) \n",
      " \n",
      "\n",
      "<class 'pandas.core.frame.DataFrame'>\n",
      "Index: 59277 entries, 0 to 59304\n",
      "Data columns (total 9 columns):\n",
      " #   Column       Non-Null Count  Dtype \n",
      "---  ------       --------------  ----- \n",
      " 0   user_id      59277 non-null  object\n",
      " 1   user_url     59277 non-null  object\n",
      " 2   funny        59277 non-null  object\n",
      " 3   item_id      59277 non-null  object\n",
      " 4   helpful      59277 non-null  object\n",
      " 5   recommend    59277 non-null  object\n",
      " 6   review       59277 non-null  object\n",
      " 7   posted_date  59277 non-null  object\n",
      " 8   posted_year  59277 non-null  object\n",
      "dtypes: object(9)\n",
      "memory usage: 4.5+ MB\n"
     ]
    }
   ],
   "source": [
    "# Let's take one last look\n",
    "print(df_reviews.shape, '\\n','\\n')\n",
    "df_reviews.info()"
   ]
  },
  {
   "cell_type": "code",
   "execution_count": 178,
   "metadata": {},
   "outputs": [
    {
     "name": "stdout",
     "output_type": "stream",
     "text": [
      "user_id        0.0\n",
      "user_url       0.0\n",
      "funny          0.0\n",
      "item_id        0.0\n",
      "helpful        0.0\n",
      "recommend      0.0\n",
      "review         0.0\n",
      "posted_date    0.0\n",
      "posted_year    0.0\n",
      "dtype: float64\n"
     ]
    }
   ],
   "source": [
    "print(null_ratio(df_reviews))"
   ]
  },
  {
   "cell_type": "code",
   "execution_count": 179,
   "metadata": {},
   "outputs": [],
   "source": [
    "# Finall saving the progress in a new .csv file\n",
    "Reviews = df_reviews.to_csv(\"Reviews.csv\", index=False)"
   ]
  },
  {
   "cell_type": "markdown",
   "metadata": {},
   "source": [
    "## Third step: Cleaning 'users_items.json.gz'"
   ]
  },
  {
   "cell_type": "code",
   "execution_count": null,
   "metadata": {},
   "outputs": [],
   "source": [
    "# Defining the path and reading the data\n",
    "path3 = 'Datasets/users_items.json.gz'\n",
    "items = read_path(path3)"
   ]
  },
  {
   "cell_type": "code",
   "execution_count": null,
   "metadata": {},
   "outputs": [],
   "source": [
    "# Transforming the data to a dataframe\n",
    "df_items = pd.DataFrame(items)"
   ]
  },
  {
   "cell_type": "code",
   "execution_count": null,
   "metadata": {},
   "outputs": [],
   "source": [
    "df_items.unstack()"
   ]
  },
  {
   "cell_type": "code",
   "execution_count": null,
   "metadata": {},
   "outputs": [],
   "source": [
    "df_items = unnesting(df_items, \"items\")"
   ]
  },
  {
   "cell_type": "code",
   "execution_count": null,
   "metadata": {},
   "outputs": [],
   "source": [
    "df_items.to_csv(\"DF Items.csv\", index=False)"
   ]
  },
  {
   "cell_type": "code",
   "execution_count": null,
   "metadata": {},
   "outputs": [],
   "source": [
    "DF_Items = pd.read_csv(\"DF Items.csv\")"
   ]
  },
  {
   "cell_type": "code",
   "execution_count": null,
   "metadata": {},
   "outputs": [],
   "source": [
    "DF_Items.drop(['items', 'index'], axis=1, inplace=True)"
   ]
  },
  {
   "cell_type": "code",
   "execution_count": null,
   "metadata": {},
   "outputs": [],
   "source": [
    "df_items.drop(['items', 'index'], axis=1, inplace=True)"
   ]
  },
  {
   "cell_type": "code",
   "execution_count": null,
   "metadata": {},
   "outputs": [],
   "source": [
    "df_items = df_items.to_parquet(\"Items.parquet\", index=False)"
   ]
  },
  {
   "cell_type": "code",
   "execution_count": null,
   "metadata": {},
   "outputs": [],
   "source": [
    "DF_Items.to_csv(\"DF Items.csv\", index=False)"
   ]
  },
  {
   "cell_type": "markdown",
   "metadata": {},
   "source": [
    "Why did I choose Parquet? This is related to the structure of the dataset itself.\n"
   ]
  },
  {
   "cell_type": "markdown",
   "metadata": {},
   "source": [
    "# General Information"
   ]
  },
  {
   "cell_type": "code",
   "execution_count": null,
   "metadata": {},
   "outputs": [],
   "source": [
    "DF_Items = pd.read_csv(\"DF Items.csv\")\n",
    "DF_Items.info()"
   ]
  },
  {
   "cell_type": "code",
   "execution_count": null,
   "metadata": {},
   "outputs": [],
   "source": [
    "Items = pd.read_parquet(\"Items.parquet\")\n",
    "Items.info()"
   ]
  },
  {
   "cell_type": "code",
   "execution_count": null,
   "metadata": {},
   "outputs": [],
   "source": [
    "Games = pd.read_csv('Games.csv')\n",
    "Games.info()"
   ]
  },
  {
   "cell_type": "code",
   "execution_count": null,
   "metadata": {},
   "outputs": [],
   "source": [
    "Reviews = pd.read_csv(\"Reviews.csv\")\n",
    "Reviews.info()"
   ]
  }
 ],
 "metadata": {
  "kernelspec": {
   "display_name": "base",
   "language": "python",
   "name": "python3"
  },
  "language_info": {
   "codemirror_mode": {
    "name": "ipython",
    "version": 3
   },
   "file_extension": ".py",
   "mimetype": "text/x-python",
   "name": "python",
   "nbconvert_exporter": "python",
   "pygments_lexer": "ipython3",
   "version": "3.11.5"
  }
 },
 "nbformat": 4,
 "nbformat_minor": 2
}
