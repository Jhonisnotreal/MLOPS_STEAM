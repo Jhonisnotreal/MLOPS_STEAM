{
 "cells": [
  {
   "cell_type": "markdown",
   "metadata": {},
   "source": [
    "# Importing Libraries, defining paths & creating functions"
   ]
  },
  {
   "cell_type": "code",
   "execution_count": 1,
   "metadata": {},
   "outputs": [],
   "source": [
    "# Importing libraries and paths\n",
    "\n",
    "import pandas as pd\n",
    "import gzip\n",
    "import ast\n",
    "from textblob import TextBlob\n",
    "from scipy import stats\n",
    "# tensorflow\n",
    "\n",
    "# Paths\n",
    "\n",
    "path1 = 'steam_games.json.gz'\n",
    "path2 = 'user_reviews.json.gz'\n",
    "path3 = 'users_items.json.gz'\n",
    "\n",
    "# Creating a function to read the paths\n",
    "\n",
    "def read_path(file):\n",
    "    with gzip.open(file, 'rt', encoding='utf-8') as myfile:\n",
    "        return [ast.literal_eval(line.strip()) for line in myfile]"
   ]
  },
  {
   "cell_type": "markdown",
   "metadata": {},
   "source": [
    "# Reading datasets"
   ]
  },
  {
   "cell_type": "code",
   "execution_count": 10,
   "metadata": {},
   "outputs": [],
   "source": [
    "#   Let's read all the datasets\n",
    "\n",
    "# Reading the dataset from 'steam_games.json.gz' ↓↓↓\n",
    "with gzip.open(path1, 'rt', encoding='utf-8') as file:\n",
    "    df_games = pd.read_json(file, lines=True)\n",
    "\n",
    "# Reading datasets \n",
    "reviews = read_path(path2)\n",
    "items = read_path(path3)\n",
    "\n",
    "# Transforming datasets to dataframes ↓:\n",
    "df_reviews = pd.DataFrame(reviews)\n",
    "df_items = pd.DataFrame(items)"
   ]
  },
  {
   "cell_type": "markdown",
   "metadata": {},
   "source": [
    "# Let's prepare the files by cleaning null values, normalizing data, addressing outliers, and including dummy variables.\n",
    "\n",
    "## First, we'll begin cleaning 'df_games'"
   ]
  },
  {
   "cell_type": "code",
   "execution_count": null,
   "metadata": {},
   "outputs": [],
   "source": [
    "# Let's start with df_games\n",
    "\n",
    "# In the next code cell, I'm going to delete specific columns that we don't for the tasks\n",
    "columns_to_drop = ['publisher', 'url', 'tags', 'reviews_url', 'specs', 'price', 'early_access', 'developer']\n",
    "\n",
    "df_games.drop(columns=columns_to_drop, inplace=True)\n",
    "\n",
    "# I use inplace=True because I want to change the original dataframe too"
   ]
  },
  {
   "cell_type": "code",
   "execution_count": 22,
   "metadata": {},
   "outputs": [
    {
     "name": "stdout",
     "output_type": "stream",
     "text": [
      "        genres  app_name  title  release_date     id\n",
      "88310    False     False  False         False  False\n",
      "88311    False     False  False         False  False\n",
      "88312    False     False  False         False  False\n",
      "88313    False     False  False         False  False\n",
      "88315    False     False  False         False  False\n",
      "...        ...       ...    ...           ...    ...\n",
      "120439   False     False  False         False  False\n",
      "120440   False     False  False         False  False\n",
      "120441   False     False  False         False  False\n",
      "120442   False     False  False         False  False\n",
      "120443   False     False  False         False  False\n",
      "\n",
      "[29894 rows x 5 columns]\n",
      "\n",
      "                                                    genres  \\\n",
      "88310       [Action, Casual, Indie, Simulation, Strategy]   \n",
      "88311                [Free to Play, Indie, RPG, Strategy]   \n",
      "88312   [Casual, Free to Play, Indie, Simulation, Sports]   \n",
      "88313                         [Action, Adventure, Casual]   \n",
      "88315                     [Action, Adventure, Simulation]   \n",
      "...                                                   ...   \n",
      "120439                 [Action, Adventure, Casual, Indie]   \n",
      "120440              [Casual, Indie, Simulation, Strategy]   \n",
      "120441                          [Casual, Indie, Strategy]   \n",
      "120442                        [Indie, Racing, Simulation]   \n",
      "120443                                    [Casual, Indie]   \n",
      "\n",
      "                        app_name                     title  release_date  \\\n",
      "88310        Lost Summoner Kitty       Lost Summoner Kitty        2018.0   \n",
      "88311                  Ironbound                 Ironbound        2018.0   \n",
      "88312    Real Pool 3D - Poolians   Real Pool 3D - Poolians        2017.0   \n",
      "88313                    弹炸人2222                   弹炸人2222        2017.0   \n",
      "88315      Battle Royale Trainer     Battle Royale Trainer        2018.0   \n",
      "...                          ...                       ...           ...   \n",
      "120439              Kebab it Up!              Kebab it Up!        2018.0   \n",
      "120440            Colony On Mars            Colony On Mars        2018.0   \n",
      "120441  LOGistICAL: South Africa  LOGistICAL: South Africa        2018.0   \n",
      "120442             Russian Roads             Russian Roads        2018.0   \n",
      "120443       EXIT 2 - Directions       EXIT 2 - Directions        2017.0   \n",
      "\n",
      "              id  \n",
      "88310   761140.0  \n",
      "88311   643980.0  \n",
      "88312   670290.0  \n",
      "88313   767400.0  \n",
      "88315   772540.0  \n",
      "...          ...  \n",
      "120439  745400.0  \n",
      "120440  773640.0  \n",
      "120441  733530.0  \n",
      "120442  610660.0  \n",
      "120443  658870.0  \n",
      "\n",
      "[29894 rows x 5 columns]\n"
     ]
    }
   ],
   "source": [
    "# Are there some null values?\n",
    "print(df_games.isnull())\n",
    "\n",
    "# Deleting null values from this columns\n",
    "df_games.dropna(subset=['genres', 'app_name', 'title', 'release_date', 'id'])\n",
    "\n",
    "# We see date\n",
    "df_games.astype(str) # This is for convert dataframe to a list so we can manipulate data\n",
    "mask = df_games['release_date'].notnull()\n",
    "print('\\n', df_games[mask])"
   ]
  },
  {
   "cell_type": "code",
   "execution_count": 33,
   "metadata": {},
   "outputs": [
    {
     "data": {
      "text/html": [
       "<div>\n",
       "<style scoped>\n",
       "    .dataframe tbody tr th:only-of-type {\n",
       "        vertical-align: middle;\n",
       "    }\n",
       "\n",
       "    .dataframe tbody tr th {\n",
       "        vertical-align: top;\n",
       "    }\n",
       "\n",
       "    .dataframe thead th {\n",
       "        text-align: right;\n",
       "    }\n",
       "</style>\n",
       "<table border=\"1\" class=\"dataframe\">\n",
       "  <thead>\n",
       "    <tr style=\"text-align: right;\">\n",
       "      <th></th>\n",
       "      <th>genres</th>\n",
       "      <th>app_name</th>\n",
       "      <th>title</th>\n",
       "      <th>release_date</th>\n",
       "    </tr>\n",
       "    <tr>\n",
       "      <th>id</th>\n",
       "      <th></th>\n",
       "      <th></th>\n",
       "      <th></th>\n",
       "      <th></th>\n",
       "    </tr>\n",
       "  </thead>\n",
       "  <tbody>\n",
       "    <tr>\n",
       "      <th>761140.0</th>\n",
       "      <td>[Action, Casual, Indie, Simulation, Strategy]</td>\n",
       "      <td>Lost Summoner Kitty</td>\n",
       "      <td>Lost Summoner Kitty</td>\n",
       "      <td>1970</td>\n",
       "    </tr>\n",
       "    <tr>\n",
       "      <th>643980.0</th>\n",
       "      <td>[Free to Play, Indie, RPG, Strategy]</td>\n",
       "      <td>Ironbound</td>\n",
       "      <td>Ironbound</td>\n",
       "      <td>1970</td>\n",
       "    </tr>\n",
       "    <tr>\n",
       "      <th>670290.0</th>\n",
       "      <td>[Casual, Free to Play, Indie, Simulation, Sports]</td>\n",
       "      <td>Real Pool 3D - Poolians</td>\n",
       "      <td>Real Pool 3D - Poolians</td>\n",
       "      <td>1970</td>\n",
       "    </tr>\n",
       "    <tr>\n",
       "      <th>767400.0</th>\n",
       "      <td>[Action, Adventure, Casual]</td>\n",
       "      <td>弹炸人2222</td>\n",
       "      <td>弹炸人2222</td>\n",
       "      <td>1970</td>\n",
       "    </tr>\n",
       "    <tr>\n",
       "      <th>772540.0</th>\n",
       "      <td>[Action, Adventure, Simulation]</td>\n",
       "      <td>Battle Royale Trainer</td>\n",
       "      <td>Battle Royale Trainer</td>\n",
       "      <td>1970</td>\n",
       "    </tr>\n",
       "    <tr>\n",
       "      <th>...</th>\n",
       "      <td>...</td>\n",
       "      <td>...</td>\n",
       "      <td>...</td>\n",
       "      <td>...</td>\n",
       "    </tr>\n",
       "    <tr>\n",
       "      <th>745400.0</th>\n",
       "      <td>[Action, Adventure, Casual, Indie]</td>\n",
       "      <td>Kebab it Up!</td>\n",
       "      <td>Kebab it Up!</td>\n",
       "      <td>1970</td>\n",
       "    </tr>\n",
       "    <tr>\n",
       "      <th>773640.0</th>\n",
       "      <td>[Casual, Indie, Simulation, Strategy]</td>\n",
       "      <td>Colony On Mars</td>\n",
       "      <td>Colony On Mars</td>\n",
       "      <td>1970</td>\n",
       "    </tr>\n",
       "    <tr>\n",
       "      <th>733530.0</th>\n",
       "      <td>[Casual, Indie, Strategy]</td>\n",
       "      <td>LOGistICAL: South Africa</td>\n",
       "      <td>LOGistICAL: South Africa</td>\n",
       "      <td>1970</td>\n",
       "    </tr>\n",
       "    <tr>\n",
       "      <th>610660.0</th>\n",
       "      <td>[Indie, Racing, Simulation]</td>\n",
       "      <td>Russian Roads</td>\n",
       "      <td>Russian Roads</td>\n",
       "      <td>1970</td>\n",
       "    </tr>\n",
       "    <tr>\n",
       "      <th>658870.0</th>\n",
       "      <td>[Casual, Indie]</td>\n",
       "      <td>EXIT 2 - Directions</td>\n",
       "      <td>EXIT 2 - Directions</td>\n",
       "      <td>1970</td>\n",
       "    </tr>\n",
       "  </tbody>\n",
       "</table>\n",
       "<p>29894 rows × 4 columns</p>\n",
       "</div>"
      ],
      "text/plain": [
       "                                                     genres  \\\n",
       "id                                                            \n",
       "761140.0      [Action, Casual, Indie, Simulation, Strategy]   \n",
       "643980.0               [Free to Play, Indie, RPG, Strategy]   \n",
       "670290.0  [Casual, Free to Play, Indie, Simulation, Sports]   \n",
       "767400.0                        [Action, Adventure, Casual]   \n",
       "772540.0                    [Action, Adventure, Simulation]   \n",
       "...                                                     ...   \n",
       "745400.0                 [Action, Adventure, Casual, Indie]   \n",
       "773640.0              [Casual, Indie, Simulation, Strategy]   \n",
       "733530.0                          [Casual, Indie, Strategy]   \n",
       "610660.0                        [Indie, Racing, Simulation]   \n",
       "658870.0                                    [Casual, Indie]   \n",
       "\n",
       "                          app_name                     title  release_date  \n",
       "id                                                                          \n",
       "761140.0       Lost Summoner Kitty       Lost Summoner Kitty          1970  \n",
       "643980.0                 Ironbound                 Ironbound          1970  \n",
       "670290.0   Real Pool 3D - Poolians   Real Pool 3D - Poolians          1970  \n",
       "767400.0                   弹炸人2222                   弹炸人2222          1970  \n",
       "772540.0     Battle Royale Trainer     Battle Royale Trainer          1970  \n",
       "...                            ...                       ...           ...  \n",
       "745400.0              Kebab it Up!              Kebab it Up!          1970  \n",
       "773640.0            Colony On Mars            Colony On Mars          1970  \n",
       "733530.0  LOGistICAL: South Africa  LOGistICAL: South Africa          1970  \n",
       "610660.0             Russian Roads             Russian Roads          1970  \n",
       "658870.0       EXIT 2 - Directions       EXIT 2 - Directions          1970  \n",
       "\n",
       "[29894 rows x 4 columns]"
      ]
     },
     "execution_count": 33,
     "metadata": {},
     "output_type": "execute_result"
    }
   ],
   "source": [
    "# This function is for extract the year\n",
    "def extract_year(date_str):\n",
    "    try:\n",
    "        return pd.to_datetime(date_str, errors='coerce').year\n",
    "    except:\n",
    "        return None\n",
    "\n",
    "\n",
    "# We only the year, this is needed for EDA, days and months aren't needed\n",
    "df_games['release_date'] = df_games['release_date'].apply(extract_year)\n",
    "\n",
    "# We delete rows where year is an invalid value\n",
    "df_games.dropna(subset=['release_date'], how='all', inplace=True)\n",
    "\n",
    "df_games"
   ]
  },
  {
   "cell_type": "code",
   "execution_count": 34,
   "metadata": {},
   "outputs": [
    {
     "name": "stdout",
     "output_type": "stream",
     "text": [
      "<class 'pandas.core.frame.DataFrame'>\n",
      "Index: 29894 entries, 761140.0 to 658870.0\n",
      "Data columns (total 4 columns):\n",
      " #   Column        Non-Null Count  Dtype \n",
      "---  ------        --------------  ----- \n",
      " 0   genres        28660 non-null  object\n",
      " 1   app_name      29893 non-null  object\n",
      " 2   title         29893 non-null  object\n",
      " 3   release_date  29894 non-null  int64 \n",
      "dtypes: int64(1), object(3)\n",
      "memory usage: 1.1+ MB\n",
      "None \n",
      "\n"
     ]
    }
   ],
   "source": [
    "# Last step: We see our dataframe \n",
    "\n",
    "print(df_games.info(), '\\n')"
   ]
  },
  {
   "cell_type": "markdown",
   "metadata": {},
   "source": [
    "## Second Step: We'll clean 'df_reviews'"
   ]
  },
  {
   "cell_type": "code",
   "execution_count": 7,
   "metadata": {},
   "outputs": [
    {
     "name": "stdout",
     "output_type": "stream",
     "text": [
      "user_id     0\n",
      "user_url    0\n",
      "reviews     0\n",
      "dtype: int64\n"
     ]
    }
   ],
   "source": [
    "# We continue cleaning dataframes and the next is: df_reviews\n",
    "\n",
    "nulls = df_reviews.isnull() == True\n",
    "print(nulls.sum()) \n",
    "\n",
    "# We don't have nulls, that's great!\n",
    "\n",
    "# The next function is for sentiment analysis:\n",
    "def sentiment_analysis(review):\n",
    "    if isinstance(review, list) and len(review) > 0:\n",
    "        text = review[0].get('review', '')\n",
    "        sentiment = TextBlob(text).sentiment.polarity\n",
    "        \n",
    "        if sentiment < -0.2:\n",
    "            return 0 # Negative\n",
    "        elif sentiment >= -0.2 and sentiment <= 0.2:\n",
    "            return 1 # Neutral\n",
    "        else:\n",
    "            return 2 # Positive\n",
    "    else:\n",
    "        return 1 # This is when no value exists\n",
    "    \n",
    "# Creating a new column and aplying the function for sentiment analysis:\n",
    "df_reviews['sentiment_analysis'] = df_reviews['reviews'].apply(sentiment_analysis)\n",
    "\n"
   ]
  },
  {
   "cell_type": "markdown",
   "metadata": {},
   "source": [
    "## Third step: Cleaning 'df_items'"
   ]
  },
  {
   "cell_type": "code",
   "execution_count": 11,
   "metadata": {},
   "outputs": [
    {
     "name": "stdout",
     "output_type": "stream",
     "text": [
      "[{'item_id': '10090', 'item_name': 'Call of Duty: World at War', 'playtime_forever': 9292, 'playtime_2weeks': 0}, {'item_id': '1250', 'item_name': 'Killing Floor', 'playtime_forever': 2578, 'playtime_2weeks': 0}, {'item_id': '35420', 'item_name': 'Killing Floor Mod: Defence Alliance 2', 'playtime_forever': 1, 'playtime_2weeks': 0}, {'item_id': '620', 'item_name': 'Portal 2', 'playtime_forever': 342, 'playtime_2weeks': 0}, {'item_id': '105600', 'item_name': 'Terraria', 'playtime_forever': 340, 'playtime_2weeks': 0}, {'item_id': '49520', 'item_name': 'Borderlands 2', 'playtime_forever': 2284, 'playtime_2weeks': 0}, {'item_id': '202970', 'item_name': 'Call of Duty: Black Ops II', 'playtime_forever': 333, 'playtime_2weeks': 0}, {'item_id': '202990', 'item_name': 'Call of Duty: Black Ops II - Multiplayer', 'playtime_forever': 87593, 'playtime_2weeks': 0}, {'item_id': '212910', 'item_name': 'Call of Duty: Black Ops II - Zombies', 'playtime_forever': 58703, 'playtime_2weeks': 0}, {'item_id': '72850', 'item_name': 'The Elder Scrolls V: Skyrim', 'playtime_forever': 6121, 'playtime_2weeks': 0}, {'item_id': '96300', 'item_name': 'Ravaged Zombie Apocalypse', 'playtime_forever': 39, 'playtime_2weeks': 0}, {'item_id': '252950', 'item_name': 'Rocket League', 'playtime_forever': 1145, 'playtime_2weeks': 0}, {'item_id': '209160', 'item_name': 'Call of Duty: Ghosts', 'playtime_forever': 27, 'playtime_2weeks': 0}, {'item_id': '209170', 'item_name': 'Call of Duty: Ghosts - Multiplayer', 'playtime_forever': 32261, 'playtime_2weeks': 0}, {'item_id': '247910', 'item_name': 'Sniper Elite: Nazi Zombie Army 2', 'playtime_forever': 36, 'playtime_2weeks': 0}, {'item_id': '221100', 'item_name': 'DayZ', 'playtime_forever': 150, 'playtime_2weeks': 0}, {'item_id': '550', 'item_name': 'Left 4 Dead 2', 'playtime_forever': 503, 'playtime_2weeks': 0}, {'item_id': '223530', 'item_name': 'Left 4 Dead 2 Beta', 'playtime_forever': 0, 'playtime_2weeks': 0}, {'item_id': '271590', 'item_name': 'Grand Theft Auto V', 'playtime_forever': 791, 'playtime_2weeks': 0}, {'item_id': '304930', 'item_name': 'Unturned', 'playtime_forever': 242, 'playtime_2weeks': 0}, {'item_id': '63380', 'item_name': 'Sniper Elite V2', 'playtime_forever': 241, 'playtime_2weeks': 0}, {'item_id': '359870', 'item_name': 'FINAL FANTASY X/X-2 HD Remaster', 'playtime_forever': 10, 'playtime_2weeks': 0}, {'item_id': '232090', 'item_name': 'Killing Floor 2', 'playtime_forever': 28460, 'playtime_2weeks': 0}, {'item_id': '232150', 'item_name': 'Killing Floor 2 - SDK', 'playtime_forever': 0, 'playtime_2weeks': 0}, {'item_id': '377160', 'item_name': 'Fallout 4', 'playtime_forever': 104, 'playtime_2weeks': 0}, {'item_id': '380600', 'item_name': 'Fishing Planet', 'playtime_forever': 20, 'playtime_2weeks': 0}, {'item_id': '287700', 'item_name': 'METAL GEAR SOLID V: THE PHANTOM PAIN', 'playtime_forever': 8655, 'playtime_2weeks': 0}, {'item_id': '311340', 'item_name': 'METAL GEAR SOLID V: GROUND ZEROES', 'playtime_forever': 1051, 'playtime_2weeks': 0}, {'item_id': '393360', 'item_name': 'Metal Gear Solid Legacy', 'playtime_forever': 2, 'playtime_2weeks': 0}, {'item_id': '311210', 'item_name': 'Call of Duty: Black Ops III', 'playtime_forever': 53404, 'playtime_2weeks': 0}, {'item_id': '366844', 'item_name': 'Call of Duty: Black Ops III - Awakening DLC Pack', 'playtime_forever': 0, 'playtime_2weeks': 0}, {'item_id': '359550', 'item_name': \"Tom Clancy's Rainbow Six Siege\", 'playtime_forever': 456, 'playtime_2weeks': 0}, {'item_id': '444560', 'item_name': 'Agent Origins: Escape', 'playtime_forever': 10, 'playtime_2weeks': 0}]\n"
     ]
    }
   ],
   "source": [
    "# We are going to read one element from the dataset this why the structure is nest\n",
    "df_items_element = df_items.sample(1)\n",
    "for item in df_items_element['items']:\n",
    "    print(item)"
   ]
  },
  {
   "cell_type": "code",
   "execution_count": 12,
   "metadata": {},
   "outputs": [],
   "source": [
    "# Now we unnest 'items' column\n",
    "items_column = df_items['items'].explode()\n",
    "# We drop 'items' column\n",
    "df_items = df_items.drop('items', axis=1)\n",
    "# We join the new column 'items' unnest\n",
    "df_items = df_items.join(items_column.apply(pd.Series))"
   ]
  },
  {
   "cell_type": "code",
   "execution_count": null,
   "metadata": {},
   "outputs": [],
   "source": [
    "# Let's the new structure for df_items\n",
    "df_items"
   ]
  },
  {
   "cell_type": "code",
   "execution_count": null,
   "metadata": {},
   "outputs": [],
   "source": [
    "# Now, we save the result in a parquet file in this way we don't have to wait and do all the previous steps\n",
    "# This file is temporary\n",
    "\n",
    "df_items_temporary = df_items.to_parquet(\"df_items_temporary.parquet\", index=False)"
   ]
  },
  {
   "cell_type": "code",
   "execution_count": null,
   "metadata": {},
   "outputs": [],
   "source": [
    "# We delete unnecesary columns\n",
    "\n",
    "df_items.drop([0,'steam_id','playtime_2weeks','user_url','items_count'], axis=1, inplace=True)\n",
    "\n",
    "# Deleting nulls\n",
    "\n",
    "df_items.dropna(how='all', inplace=True)\n",
    "\n",
    "# Deleting duplicates\n",
    "\n",
    "df_items=df_items.drop_duplicates()\n",
    "\n",
    "# Deleting null values from useful columns:\n",
    "\n",
    "df_items.dropna(subset=['playtime_forever'],inplace=True)\n",
    "df_items.dropna(subset=['item_id'],inplace=True)\n",
    "df_items.dropna(subset=['user_id'],inplace=True)"
   ]
  },
  {
   "cell_type": "code",
   "execution_count": null,
   "metadata": {},
   "outputs": [],
   "source": [
    "df_items.info()\n",
    "df_items.head(6)"
   ]
  },
  {
   "cell_type": "code",
   "execution_count": null,
   "metadata": {},
   "outputs": [],
   "source": [
    "# We save the file again\n",
    "\n",
    "df_items_data = df_items.to_parquet(\"df_items_data.parquet\", index=False)\n",
    "\n"
   ]
  },
  {
   "cell_type": "code",
   "execution_count": null,
   "metadata": {},
   "outputs": [],
   "source": [
    "# We create a sample because is too big \n",
    "\n",
    "df_items_sample = df_items.sample(10000)\n",
    "df_items_sample.to_parquet(\"df_items_sample.parquet\", index=False)"
   ]
  },
  {
   "cell_type": "markdown",
   "metadata": {},
   "source": [
    "Why did I choose Parquet? This is related to the structure of the dataset itself.\n"
   ]
  },
  {
   "cell_type": "markdown",
   "metadata": {},
   "source": [
    "# Saving dataframes to csv & parquet files \n",
    "\n",
    "Finally, we're going to save our dataframes to files so that we can conduct the Exploratory Data Analysis (EDA).\n",
    "\n"
   ]
  }
 ],
 "metadata": {
  "kernelspec": {
   "display_name": "base",
   "language": "python",
   "name": "python3"
  },
  "language_info": {
   "codemirror_mode": {
    "name": "ipython",
    "version": 3
   },
   "file_extension": ".py",
   "mimetype": "text/x-python",
   "name": "python",
   "nbconvert_exporter": "python",
   "pygments_lexer": "ipython3",
   "version": "3.11.5"
  }
 },
 "nbformat": 4,
 "nbformat_minor": 2
}
